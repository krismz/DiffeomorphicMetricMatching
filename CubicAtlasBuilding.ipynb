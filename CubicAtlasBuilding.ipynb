{
 "cells": [
  {
   "cell_type": "code",
   "execution_count": 1,
   "metadata": {},
   "outputs": [],
   "source": [
    "%matplotlib notebook\n",
    "from tqdm import tqdm\n",
    "#import matplotlib.pyplot as plt\n",
    "# Note! ITK interacts weirdly here.  from lazy_imports import itk does not work.\n",
    "# Additionally, import itk must occur before lazy_imports for itkwidgets.view (ie itkview) to work.\n",
    "import itk\n",
    "#from lazy_imports import itk\n",
    "from lazy_imports import torch\n",
    "from lazy_imports import np\n",
    "from lazy_imports import plt\n",
    "from lazy_imports import sitk\n",
    "from lazy_imports import loadmat, savemat\n",
    "from lazy_imports import sio\n",
    "from lazy_imports import itkwidgets\n",
    "from lazy_imports import itkview\n",
    "from lazy_imports import interactive\n",
    "from lazy_imports import ipywidgets\n",
    "from lazy_imports import pv\n",
    "\n",
    "plt.rcParams[\"figure.figsize\"] = (6, 6) # (w, h)"
   ]
  },
  {
   "cell_type": "code",
   "execution_count": 2,
   "metadata": {},
   "outputs": [],
   "source": [
    "from util.SplitEbinMetric3D import get_karcher_mean, Squared_distance_Ebin_field, logm_invB_A"
   ]
  },
  {
   "cell_type": "code",
   "execution_count": 3,
   "metadata": {},
   "outputs": [],
   "source": [
    "from util.diffeo import get_idty_3d, get_gradient_3d, compose_function_3d, phi_pullback_3d, compose_function_in_place_3d"
   ]
  },
  {
   "cell_type": "code",
   "execution_count": 4,
   "metadata": {},
   "outputs": [],
   "source": [
    "from algo.metricMatching import metric_matching"
   ]
  },
  {
   "cell_type": "code",
   "execution_count": 5,
   "metadata": {},
   "outputs": [],
   "source": [
    "from disp.vis import show_2d, show_2d_tensors\n",
    "from disp.vis import vis_tensors, vis_path\n",
    "from disp.vis import view_3d_tensors, tensors_to_mesh, view_3d_paths, path_to_tube\n",
    "from data.io import readRaw, ReadScalars, ReadTensors, WriteTensorNPArray, WriteScalarNPArray, readPath3D\n",
    "from data.convert import GetNPArrayFromSITK, GetSITKImageFromNP"
   ]
  },
  {
   "cell_type": "code",
   "execution_count": null,
   "metadata": {},
   "outputs": [
    {
     "name": "stdout",
     "output_type": "stream",
     "text": [
      "start from identity\n",
      "start from identity\n"
     ]
    },
    {
     "name": "stderr",
     "output_type": "stream",
     "text": [
      "\r",
      "  0%|          | 0/800 [00:00<?, ?it/s]"
     ]
    },
    {
     "name": "stdout",
     "output_type": "stream",
     "text": [
      "start from identity\n",
      "start from identity\n",
      "Starting from iteration 0 to iteration 800\n",
      "0 13667.572265625\n",
      "0 13455.9111328125\n",
      "0 4734.90283203125\n",
      "0 4638.921875\n"
     ]
    },
    {
     "name": "stderr",
     "output_type": "stream",
     "text": [
      "\r",
      "  0%|          | 1/800 [00:14<3:10:51, 14.33s/it]"
     ]
    },
    {
     "name": "stdout",
     "output_type": "stream",
     "text": [
      "0 13332.6875\n",
      "0 13174.046875\n",
      "0 4575.45751953125\n",
      "0 4480.81884765625\n"
     ]
    },
    {
     "name": "stderr",
     "output_type": "stream",
     "text": [
      "\r",
      "  0%|          | 2/800 [00:40<4:40:06, 21.06s/it]"
     ]
    },
    {
     "name": "stdout",
     "output_type": "stream",
     "text": [
      "0 13047.1953125\n",
      "0 12927.84765625\n",
      "0 4437.4296875\n",
      "0 4343.53125\n"
     ]
    },
    {
     "name": "stderr",
     "output_type": "stream",
     "text": [
      "\r",
      "  0%|          | 3/800 [01:05<5:06:28, 23.07s/it]"
     ]
    },
    {
     "name": "stdout",
     "output_type": "stream",
     "text": [
      "0 12793.1943359375\n",
      "0 12706.2529296875\n",
      "0 4314.5439453125\n",
      "0 4220.8603515625\n"
     ]
    },
    {
     "name": "stderr",
     "output_type": "stream",
     "text": [
      "\r",
      "  0%|          | 4/800 [01:31<5:18:49, 24.03s/it]"
     ]
    }
   ],
   "source": [
    "    torch.set_default_tensor_type('torch.FloatTensor')\n",
    "    file_name = [1,2,4,6]\n",
    "    input_dir = '/usr/sci/projects/HCP/Kris/NSFCRCNS/TestResults/working_3d_python/'\n",
    "    output_dir = '/usr/sci/projects/HCP/Kris/NSFCRCNS/TestResults/working_3d_python/Cubic1246AtlasJul16/'\n",
    "    height, width, depth = 100,100,41\n",
    "    sample_num = len(file_name)\n",
    "    tensor_lin_list, tensor_met_list, mask_list, mask_thresh_list, fa_list = [], [], [], [], []\n",
    "    mask_union = torch.zeros(height, width, depth).float()\n",
    "    phi_inv_acc_list, phi_acc_list, energy_list = [], [], []\n",
    "    resume = False\n",
    "   \n",
    "    start_iter = 0\n",
    "    iter_num = 800\n",
    "\n",
    "    for s in range(len(file_name)):\n",
    "        tensor_np = sitk.GetArrayFromImage(sitk.ReadImage(f'{input_dir}/cubic{file_name[s]}_scaled_tensors.nhdr'))\n",
    "        mask_np = sitk.GetArrayFromImage(sitk.ReadImage(f'{input_dir}/cubic{file_name[s]}_filt_mask.nhdr'))\n",
    "        tensor_lin_list.append(torch.from_numpy(tensor_np).float().permute(3,2,1,0))\n",
    "    #     create union of masks\n",
    "        mask_union += torch.from_numpy(mask_np).float().permute(2,1,0)\n",
    "        mask_list.append(torch.from_numpy(mask_np).float().permute(2,1,0))\n",
    "    #     rearrange tensor_lin to tensor_met\n",
    "        tensor_met_zeros = torch.zeros(height,width,depth,3,3,dtype=torch.float32)\n",
    "        tensor_met_zeros[:,:,:,0,0] = tensor_lin_list[s][0]\n",
    "        tensor_met_zeros[:,:,:,0,1] = tensor_lin_list[s][1]\n",
    "        tensor_met_zeros[:,:,:,0,2] = tensor_lin_list[s][2]\n",
    "        tensor_met_zeros[:,:,:,1,0] = tensor_lin_list[s][1]\n",
    "        tensor_met_zeros[:,:,:,1,1] = tensor_lin_list[s][3]\n",
    "        tensor_met_zeros[:,:,:,1,2] = tensor_lin_list[s][4]\n",
    "        tensor_met_zeros[:,:,:,2,0] = tensor_lin_list[s][2]\n",
    "        tensor_met_zeros[:,:,:,2,1] = tensor_lin_list[s][4]\n",
    "        tensor_met_zeros[:,:,:,2,2] = tensor_lin_list[s][5]\n",
    "    #     balance the background and subject by rescaling\n",
    "        # tensor_met_zeros = tensor_cleaning(tensor_met_zeros, scale_factor=torch.tensor(1,dtype=torch.float64))\n",
    "        # fa_list.append(fractional_anisotropy(tensor_met_zeros))\n",
    "        tensor_met_list.append(torch.inverse(tensor_met_zeros))\n",
    "        # fore_back_adaptor = torch.ones((height,width,depth))\n",
    "        fore_back_adaptor = torch.ones((height,width,depth))\n",
    "        mask_thresh_list.append(fore_back_adaptor)\n",
    "        tensor_met_list[s] = torch.einsum('ijk...,lijk->ijk...', tensor_met_list[s], mask_thresh_list[s].unsqueeze(0))\n",
    "    #     initialize the accumulative diffeomorphism    \n",
    "        if resume==False:\n",
    "            print('start from identity')\n",
    "            phi_inv_acc_list.append(get_idty_3d(height, width, depth))\n",
    "            phi_acc_list.append(get_idty_3d(height, width, depth))\n",
    "        else:\n",
    "            print('start from checkpoint')\n",
    "            phi_inv_acc_list.append(torch.from_numpy(sio.loadmat(f'{output_dir}/{file_name[s]}_{start_iter-1}_phi_inv.mat')['diffeo']).float())\n",
    "            phi_acc_list.append(torch.from_numpy(sio.loadmat(f'{output_dir}/{file_name[s]}_{start_iter-1}_phi.mat')['diffeo']).float())\n",
    "            tensor_met_list[s] = phi_pullback_3d(phi_inv_acc_list[s], tensor_met_list[s])\n",
    "        energy_list.append([])    \n",
    "        \n",
    "    mask_union[mask_union>0] = 1\n",
    "\n",
    "\n",
    "    print(f'Starting from iteration {start_iter} to iteration {iter_num+start_iter}')\n",
    "\n",
    "    for i in tqdm(range(start_iter, start_iter+iter_num)):\n",
    "        G = torch.stack(tuple(tensor_met_list))\n",
    "        dim, sigma, epsilon, iter_num = 3., 0, 4e-3, 1 # epsilon = 3e-3 for orig tensor\n",
    "        atlas = get_karcher_mean(G, 1./dim)\n",
    "\n",
    "        phi_inv_list, phi_list = [], []\n",
    "        for s in range(sample_num):\n",
    "            energy_list[s].append(torch.einsum(\"ijk...,lijk->\",[(tensor_met_list[s] - atlas)**2, mask_union.unsqueeze(0)]).item())\n",
    "            old = tensor_met_list[s]\n",
    "            if tensor_met_list[s].grad is not None:\n",
    "                print('tensor met', s)\n",
    "            if atlas.grad is not None:\n",
    "                print('atlas')\n",
    "            if mask_union.grad is not None:\n",
    "                print('mask union')\n",
    "            tensor_met_list[s], phi, phi_inv = metric_matching(tensor_met_list[s], atlas, height, width, depth, mask_union, iter_num, epsilon, sigma,dim,use_idty=True)\n",
    "            phi_inv_list.append(phi_inv)\n",
    "            phi_list.append(phi)\n",
    "            phi_inv_acc_list[s][:] = compose_function_3d(phi_inv_acc_list[s], phi_inv_list[s])\n",
    "            phi_acc_list[s][:] = compose_function_3d(phi_list[s], phi_acc_list[s])\n",
    "            mask_list[s][:] = compose_function_3d(mask_list[s], phi_inv_list[s])\n",
    "            #compose_function_in_place_3d(phi_inv_acc_list[s], phi_inv_list[s])\n",
    "            #compose_function_in_place_3d(phi_list[s], phi_acc_list[s])\n",
    "            #compose_function_in_place_3d(mask_list[s], phi_inv_list[s])\n",
    "    #         if i%1==0:\n",
    "    #             plot_diffeo(phi_acc_list[s][1:, 50, :, :], step_size=2, show_axis=True)\n",
    "    #             plot_diffeo(phi_acc_list[s][:2, :, :, 20], step_size=2, show_axis=True)\n",
    "    #             plot_diffeo(torch.stack((phi_acc_list[s][0, :, 50, :],phi_acc_list[s][2, :, 50, :]),0), step_size=2, show_axis=True)\n",
    "                \n",
    "        '''check point'''\n",
    "        if i%50==0:\n",
    "            atlas_lin = np.zeros((6,height,width,depth))\n",
    "            mask_acc = np.zeros((height,width,depth))\n",
    "            atlas_inv = torch.inverse(atlas)\n",
    "            atlas_lin[0] = atlas_inv[:,:,:,0,0]\n",
    "            atlas_lin[1] = atlas_inv[:,:,:,0,1]\n",
    "            atlas_lin[2] = atlas_inv[:,:,:,0,2]\n",
    "            atlas_lin[3] = atlas_inv[:,:,:,1,1]\n",
    "            atlas_lin[4] = atlas_inv[:,:,:,1,2]\n",
    "            atlas_lin[5] = atlas_inv[:,:,:,2,2]\n",
    "            for s in range(sample_num):\n",
    "                sio.savemat(f'{output_dir}/cubic{file_name[s]}_{i}_phi_inv.mat', {'diffeo': phi_inv_acc_list[s].detach().numpy()})\n",
    "                sio.savemat(f'{output_dir}/cubic{file_name[s]}_{i}_phi.mat', {'diffeo': phi_acc_list[s].detach().numpy()})\n",
    "                sio.savemat(f'{output_dir}/cubic{file_name[s]}_{i}_energy.mat', {'energy': energy_list[s]})\n",
    "    #             plt.plot(energy_list[s])\n",
    "                #mask_acc += mask_list[s].numpy()\n",
    "            #mask_acc[mask_acc>0]=1\n",
    "            sitk.WriteImage(sitk.GetImageFromArray(np.transpose(atlas_lin,(3,2,1,0))), f'{output_dir}/atlas_{i}_tens.nhdr')\n",
    "            sitk.WriteImage(sitk.GetImageFromArray(np.transpose(mask_union,(2,1,0))), f'{output_dir}/atlas_{i}_mask.nhdr')\n",
    "\n",
    "    atlas_lin = np.zeros((6,height,width,depth))\n",
    "    #mask_acc = np.zeros((height,width,depth))\n",
    "\n",
    "    for s in range(sample_num):\n",
    "        sio.savemat(f'{output_dir}/{file_name[s]}_phi_inv.mat', {'diffeo': phi_inv_acc_list[s].detach().numpy()})\n",
    "        sio.savemat(f'{output_dir}/{file_name[s]}_phi.mat', {'diffeo': phi_acc_list[s].detach().numpy()})\n",
    "        sio.savemat(f'{output_dir}/{file_name[s]}_energy.mat', {'energy': energy_list[s]})\n",
    "        \n",
    "        plt.plot(energy_list[s])\n",
    "        #mask_acc += mask_list[s].numpy()\n",
    "\n",
    "    atlas = torch.inverse(atlas)\n",
    "    atlas_lin[0] = atlas[:,:,:,0,0]\n",
    "    atlas_lin[1] = atlas[:,:,:,0,1]\n",
    "    atlas_lin[2] = atlas[:,:,:,0,2]\n",
    "    atlas_lin[3] = atlas[:,:,:,1,1]\n",
    "    atlas_lin[4] = atlas[:,:,:,1,2]\n",
    "    atlas_lin[5] = atlas[:,:,:,2,2]\n",
    "    #mask_acc[mask_acc>0]=1\n",
    "    sitk.WriteImage(sitk.GetImageFromArray(np.transpose(atlas_lin,(3,2,1,0))), f'{output_dir}/atlas_tens.nhdr')\n",
    "    sitk.WriteImage(sitk.GetImageFromArray(np.transpose(mask_union,(2,1,0))), f'{output_dir}/atlas_mask.nhdr')\n"
   ]
  },
  {
   "cell_type": "code",
   "execution_count": 13,
   "metadata": {},
   "outputs": [
    {
     "data": {
      "text/plain": [
       "torch.float32"
      ]
     },
     "execution_count": 13,
     "metadata": {},
     "output_type": "execute_result"
    }
   ],
   "source": [
    "G.dtype"
   ]
  },
  {
   "cell_type": "code",
   "execution_count": null,
   "metadata": {},
   "outputs": [],
   "source": []
  }
 ],
 "metadata": {
  "kernelspec": {
   "display_name": "nsfcrcns",
   "language": "python",
   "name": "nsfcrcns"
  },
  "language_info": {
   "codemirror_mode": {
    "name": "ipython",
    "version": 3
   },
   "file_extension": ".py",
   "mimetype": "text/x-python",
   "name": "python",
   "nbconvert_exporter": "python",
   "pygments_lexer": "ipython3",
   "version": "3.6.15"
  }
 },
 "nbformat": 4,
 "nbformat_minor": 4
}
