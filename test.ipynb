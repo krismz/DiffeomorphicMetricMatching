{
 "cells": [
  {
   "cell_type": "code",
   "execution_count": 1,
   "metadata": {},
   "outputs": [],
   "source": [
    "%matplotlib notebook\n",
    "#import matplotlib.pyplot as plt\n",
    "# Note! ITK interacts weirdly here.  from lazy_imports import itk does not work.\n",
    "# Additionally, import itk must occur before lazy_imports for itkwidgets.view (ie itkview) to work.\n",
    "import itk\n",
    "#from lazy_imports import itk\n",
    "#from lazy_imports import torch\n",
    "import torch # to avoid sym3eig_cpu ImportError: libc10.so: cannot open shared object file: No such file or directory\n",
    "from lazy_imports import np\n",
    "from lazy_imports import plt\n",
    "from lazy_imports import sitk\n",
    "from lazy_imports import loadmat, savemat\n",
    "from lazy_imports import sitk\n",
    "from lazy_imports import itkwidgets\n",
    "from lazy_imports import itkview\n",
    "from lazy_imports import interactive\n",
    "from lazy_imports import ipywidgets\n",
    "from lazy_imports import pv\n",
    "from lazy_imports import vlinalg\n",
    "from torch_sym3eig import Sym3Eig\n",
    "plt.rcParams[\"figure.figsize\"] = (6, 6) # (w, h)"
   ]
  },
  {
   "cell_type": "code",
   "execution_count": 2,
   "metadata": {},
   "outputs": [],
   "source": [
    "from util.SplitEbinMetric3D import get_karcher_mean, Squared_distance_Ebin_field, logm_invB_A"
   ]
  },
  {
   "cell_type": "code",
   "execution_count": 3,
   "metadata": {},
   "outputs": [],
   "source": [
    "from util.diffeo import get_idty_3d, get_gradient_3d, compose_function_3d"
   ]
  },
  {
   "cell_type": "code",
   "execution_count": 4,
   "metadata": {},
   "outputs": [],
   "source": [
    "from algo.metricMatching import metric_matching"
   ]
  },
  {
   "cell_type": "code",
   "execution_count": 5,
   "metadata": {},
   "outputs": [],
   "source": [
    "from disp.vis import show_2d, show_2d_tensors\n",
    "from disp.vis import vis_tensors, vis_path\n",
    "from disp.vis import view_3d_tensors, tensors_to_mesh, view_3d_paths, path_to_tube\n",
    "from data.io import readRaw, ReadScalars, ReadTensors, WriteTensorNPArray, WriteScalarNPArray, readPath3D\n",
    "from data.convert import GetNPArrayFromSITK, GetSITKImageFromNP"
   ]
  },
  {
   "cell_type": "code",
   "execution_count": 6,
   "metadata": {},
   "outputs": [],
   "source": [
    "cases = []\n",
    "#all_start_coords = []\n",
    "cases.append('103818')\n",
    "#all_start_coords.append([[62,126,56]])\n",
    "cases.append('105923')\n",
    "#all_start_coords.append([[61,125,56]])\n",
    "cases.append('111312')\n",
    "#all_start_coords.append([[62,128,56]])\n",
    "masks = []\n",
    "t1s = []\n",
    "in_tensors = []\n",
    "out_tensors = []\n",
    "outdirs = []\n",
    "for run_case in cases:\n",
    "  subj = run_case[:6]\n",
    "  outroot='/usr/sci/projects/HCP/Kris/NSFCRCNS/TestResults/working_3d_python/simulation_results/'\n",
    "  indir = '/usr/sci/projects/HCP/Kris/NSFCRCNS/prepped_data/' + subj + '/'\n",
    "  #bval = 3000\n",
    "  #outroot='/usr/sci/projects/HCP/Kris/NSFCRCNS/TestResults/working_3d_python/UKF_experiments/'\n",
    "  #indir = '/usr/sci/projects/HCP/Kris/NSFCRCNS/prepped_UKF_data_with_grad-dev/' + subj + '/'\n",
    "  bval = 1000\n",
    "  outdir = f'{outroot}{run_case}/mineval_0.005_n_3000_s_1.5/'\n",
    "  outdirs.append(outdir)\n",
    "\n",
    "  tens_file = f'dti_{bval}_tensor.nhdr'\n",
    "  in_tens = ReadTensors(indir + tens_file)\n",
    "  tens_file = 'scaled_tensors.nhdr'\n",
    "  out_tens = ReadTensors(outdir + tens_file)\n",
    "  t1_file = 't1_stripped_irescaled.nhdr'\n",
    "  t1 = ReadScalars(indir + t1_file)\n",
    "  mask_file = 'filt_mask.nhdr'\n",
    "  mask = ReadScalars(outdir + mask_file)\n",
    "  in_tensors.append(in_tens)\n",
    "  out_tensors.append(out_tens)\n",
    "  t1s.append(t1)\n",
    "  masks.append(mask)\n",
    "  #t1_flip = ReadScalars(indir + 't1_rescaled_flipped.nhdr')[:,::-1,:]\n",
    "\n",
    "\n",
    "#atlasdir = '/home/sci/hdai/Shared/BrainAtlasMay21/'\n",
    "#atlas_tens = ReadTensors(atlasdir + 'atlas_tens.nhdr')\n",
    "#atlas_mask = ReadScalars(atlasdir + 'atlas_mask.nhdr')\n",
    "atlasdir = '/home/sci/hdai/Shared/Brain3AtlasMay24/'\n",
    "atlas_tens = ReadTensors(atlasdir + 'atlas_800_tens.nhdr')\n",
    "atlas_mask = ReadScalars(atlasdir + 'atlas_800_mask.nhdr')"
   ]
  },
  {
   "cell_type": "code",
   "execution_count": 7,
   "metadata": {},
   "outputs": [
    {
     "name": "stdout",
     "output_type": "stream",
     "text": [
      "CPU times: user 13 s, sys: 292 ms, total: 13.3 s\n",
      "Wall time: 12.8 s\n"
     ]
    }
   ],
   "source": [
    "%%time\n",
    "do_GPU=False\n",
    "#do_GPU=True\n",
    "if do_GPU:\n",
    "  torch.set_default_tensor_type('torch.cuda.FloatTensor')\n",
    "  torch.cuda.set_device(1)\n",
    "else:\n",
    "  torch.set_default_tensor_type('torch.FloatTensor')  \n",
    "tens_0 = np.zeros((out_tensors[0].shape[0],out_tensors[0].shape[1],out_tensors[0].shape[2],3,3))\n",
    "tens_1 = np.zeros((out_tensors[1].shape[0],out_tensors[1].shape[1],out_tensors[1].shape[2],3,3))\n",
    "for xx in range(tens_0.shape[0]):\n",
    "  for yy in range(tens_0.shape[1]):\n",
    "    for zz in range(tens_0.shape[2]):\n",
    "      if masks[0][xx,yy,zz]:\n",
    "        tens_0[xx,yy,zz,0,0] = out_tensors[0][xx,yy,zz,0]\n",
    "        tens_0[xx,yy,zz,0,1] = out_tensors[0][xx,yy,zz,1]\n",
    "        tens_0[xx,yy,zz,1,0] = out_tensors[0][xx,yy,zz,1]\n",
    "        tens_0[xx,yy,zz,0,2] = out_tensors[0][xx,yy,zz,2]\n",
    "        tens_0[xx,yy,zz,2,0] = out_tensors[0][xx,yy,zz,2]\n",
    "        tens_0[xx,yy,zz,1,1] = out_tensors[0][xx,yy,zz,3]\n",
    "        tens_0[xx,yy,zz,1,2] = out_tensors[0][xx,yy,zz,4]\n",
    "        tens_0[xx,yy,zz,2,1] = out_tensors[0][xx,yy,zz,4]\n",
    "        tens_0[xx,yy,zz,2,2] = out_tensors[0][xx,yy,zz,5]\n",
    "      else:\n",
    "        tens_0[xx,yy,zz,0,0] = 1\n",
    "        tens_0[xx,yy,zz,1,1] = 1\n",
    "        tens_0[xx,yy,zz,2,2] = 1\n",
    "      if masks[1][xx,yy,zz]:\n",
    "        tens_1[xx,yy,zz,0,0] = out_tensors[1][xx,yy,zz,0]\n",
    "        tens_1[xx,yy,zz,0,1] = out_tensors[1][xx,yy,zz,1]\n",
    "        tens_1[xx,yy,zz,1,0] = out_tensors[1][xx,yy,zz,1]\n",
    "        tens_1[xx,yy,zz,0,2] = out_tensors[1][xx,yy,zz,2]\n",
    "        tens_1[xx,yy,zz,2,0] = out_tensors[1][xx,yy,zz,2]\n",
    "        tens_1[xx,yy,zz,1,1] = out_tensors[1][xx,yy,zz,3]\n",
    "        tens_1[xx,yy,zz,1,2] = out_tensors[1][xx,yy,zz,4]\n",
    "        tens_1[xx,yy,zz,2,1] = out_tensors[1][xx,yy,zz,4]\n",
    "        tens_1[xx,yy,zz,2,2] = out_tensors[1][xx,yy,zz,5]\n",
    "      else:\n",
    "        tens_1[xx,yy,zz,0,0] = 1\n",
    "        tens_1[xx,yy,zz,1,1] = 1\n",
    "        tens_1[xx,yy,zz,2,2] = 1\n",
    "        \n",
    "\n",
    "if do_GPU:\n",
    "  torch_tens_0 = torch.from_numpy(tens_0).cuda().float()\n",
    "  torch_tens_1 = torch.from_numpy(tens_1).cuda().float()\n",
    "  mask_union = torch.from_numpy(masks[0]).cuda().float()\n",
    "  mask_union += torch.from_numpy(masks[1]).cuda().float()\n",
    "\n",
    "else:\n",
    "  torch_tens_0 = torch.from_numpy(tens_0).float()\n",
    "  torch_tens_1 = torch.from_numpy(tens_1).float()\n",
    "  mask_union = torch.from_numpy(masks[0]).float()\n",
    "  mask_union += torch.from_numpy(masks[1]).float()\n",
    "    "
   ]
  },
  {
   "cell_type": "code",
   "execution_count": null,
   "metadata": {},
   "outputs": [],
   "source": [
    "%%time\n",
    "met_0_1_dist = Squared_distance_Ebin_field(torch.inverse(torch_tens_0), \n",
    "                                           torch.inverse(torch_tens_1), \n",
    "                                           1./2, \n",
    "                                           mask_union).cpu().detach().numpy()\n",
    "# Torch CPU: CPU Time: 26.7 s, Wall time: 21.5 s\n",
    "# Torch GPU: CPU time: 6 min 48s, Wall time: 6 min 48s "
   ]
  },
  {
   "cell_type": "code",
   "execution_count": 7,
   "metadata": {},
   "outputs": [
    {
     "name": "stdout",
     "output_type": "stream",
     "text": [
      "CPU times: user 7min 18s, sys: 75.5 ms, total: 7min 18s\n",
      "Wall time: 7min 18s\n"
     ]
    }
   ],
   "source": [
    "%%time\n",
    "G = torch.stack((torch.inverse(torch_tens_0),\n",
    "                 torch.inverse(torch_tens_1)))\n",
    "dim = 3.\n",
    "kmean = get_karcher_mean(G, 1./dim)\n",
    "# Torch CPU: CPU Time: 24.7 s, Wall time: 10.8 s \n",
    "# Torch GPU: CPU Time:  7min 18s, Wall time:  7min 18s"
   ]
  },
  {
   "cell_type": "code",
   "execution_count": 8,
   "metadata": {},
   "outputs": [
    {
     "data": {
      "text/plain": [
       "device(type='cuda', index=1)"
      ]
     },
     "execution_count": 8,
     "metadata": {},
     "output_type": "execute_result"
    }
   ],
   "source": [
    "kmean.device"
   ]
  },
  {
   "cell_type": "code",
   "execution_count": 8,
   "metadata": {},
   "outputs": [
    {
     "data": {
      "application/vnd.jupyter.widget-view+json": {
       "model_id": "fecefd2ca2b34ce8832f73781e51767c",
       "version_major": 2,
       "version_minor": 0
      },
      "text/plain": [
       "Viewer(geometries=[], gradient_opacity=0.22, point_sets=[], rendered_image=<itk.itkImagePython.itkImageD3; pro…"
      ]
     },
     "metadata": {},
     "output_type": "display_data"
    }
   ],
   "source": [
    "itkview(met_0_1_dist)"
   ]
  },
  {
   "cell_type": "code",
   "execution_count": 8,
   "metadata": {},
   "outputs": [
    {
     "data": {
      "application/vnd.jupyter.widget-view+json": {
       "model_id": "1e6253dcdbe6406bacdb242513fc8fff",
       "version_major": 2,
       "version_minor": 0
      },
      "text/plain": [
       "Viewer(geometries=[], gradient_opacity=0.22, point_sets=[], rendered_image=<itk.itkImagePython.itkImageD3; pro…"
      ]
     },
     "metadata": {},
     "output_type": "display_data"
    }
   ],
   "source": [
    "itkview(kmean[:,:,:,0,0])"
   ]
  },
  {
   "cell_type": "code",
   "execution_count": 9,
   "metadata": {},
   "outputs": [
    {
     "data": {
      "application/vnd.jupyter.widget-view+json": {
       "model_id": "662ba2edacf0410d947c3a638eaf08b9",
       "version_major": 2,
       "version_minor": 0
      },
      "text/plain": [
       "Viewer(geometries=[], gradient_opacity=0.22, point_sets=[], rendered_image=<itk.itkImagePython.itkImageD3; pro…"
      ]
     },
     "metadata": {},
     "output_type": "display_data"
    }
   ],
   "source": [
    "itkview(G[0][:,:,:,0,0])"
   ]
  },
  {
   "cell_type": "code",
   "execution_count": 10,
   "metadata": {},
   "outputs": [
    {
     "data": {
      "application/vnd.jupyter.widget-view+json": {
       "model_id": "64208678eced4ef99a9d1b5a3e98f040",
       "version_major": 2,
       "version_minor": 0
      },
      "text/plain": [
       "Viewer(geometries=[], gradient_opacity=0.22, point_sets=[], rendered_image=<itk.itkImagePython.itkImageD3; pro…"
      ]
     },
     "metadata": {},
     "output_type": "display_data"
    }
   ],
   "source": [
    "itkview(G[1][:,:,:,0,0])"
   ]
  },
  {
   "cell_type": "code",
   "execution_count": 9,
   "metadata": {},
   "outputs": [],
   "source": [
    "#kmean_GPU=kmean.detach().numpy()\n",
    "#kmean_CPU=kmean.detach().numpy()"
   ]
  },
  {
   "cell_type": "code",
   "execution_count": 10,
   "metadata": {},
   "outputs": [],
   "source": [
    "#kmean_diff = kmean_GPU-kmean_CPU\n",
    "#print(np.max(kmean_diff),np.min(kmean_diff))¯"
   ]
  },
  {
   "cell_type": "code",
   "execution_count": 8,
   "metadata": {},
   "outputs": [
    {
     "name": "stdout",
     "output_type": "stream",
     "text": [
      "torch.float32 torch.float32\n"
     ]
    }
   ],
   "source": [
    "print(torch_tens_1.dtype,torch.inverse(torch_tens_0).dtype)\n",
    "# TODO in metric_matching, ensure inputs are torch.float32"
   ]
  },
  {
   "cell_type": "code",
   "execution_count": 8,
   "metadata": {},
   "outputs": [
    {
     "name": "stdout",
     "output_type": "stream",
     "text": [
      "515 elements of gi are not symmetric\n",
      "tensor([[[ 9.9554,  1.1311,  0.5831],\n",
      "         [ 1.1311, 10.1719,  1.1953],\n",
      "         [ 0.5831,  1.1953,  9.2194]],\n",
      "\n",
      "        [[ 6.0318,  1.1220,  0.5670],\n",
      "         [ 1.1220,  8.2391,  1.3645],\n",
      "         [ 0.5670,  1.3645,  6.6151]],\n",
      "\n",
      "        [[ 9.4020,  1.0885,  0.0864],\n",
      "         [ 1.0885, 10.2546, -0.4213],\n",
      "         [ 0.0864, -0.4213, 10.0278]],\n",
      "\n",
      "        ...,\n",
      "\n",
      "        [[ 2.5409, -0.5618,  0.5896],\n",
      "         [-0.5618,  1.2932, -0.2101],\n",
      "         [ 0.5896, -0.2101,  2.1608]],\n",
      "\n",
      "        [[ 3.1314,  0.6244, -0.0937],\n",
      "         [ 0.6244,  4.0015, -0.3831],\n",
      "         [-0.0937, -0.3831,  2.9300]],\n",
      "\n",
      "        [[ 7.7619,  1.0622,  1.0209],\n",
      "         [ 1.0622,  7.9103,  1.2072],\n",
      "         [ 1.0209,  1.2072,  9.2985]]])\n",
      "164 elements of gi are not symmetric\n",
      "tensor([[[ 8.5862,  0.7609,  1.0374],\n",
      "         [ 0.7609, 10.6777,  2.8820],\n",
      "         [ 1.0374,  2.8820, 10.8382]],\n",
      "\n",
      "        [[ 4.8994, -0.9666, -0.8564],\n",
      "         [-0.9666,  4.6840,  0.9180],\n",
      "         [-0.8564,  0.9180,  6.2612]],\n",
      "\n",
      "        [[ 2.8897,  0.0645,  1.0550],\n",
      "         [ 0.0645,  2.7476,  0.2813],\n",
      "         [ 1.0550,  0.2813,  1.9818]],\n",
      "\n",
      "        ...,\n",
      "\n",
      "        [[ 3.3874, -0.5962, -1.0523],\n",
      "         [-0.5962,  2.6326, -0.0402],\n",
      "         [-1.0523, -0.0402,  3.2475]],\n",
      "\n",
      "        [[ 3.2875, -0.4492, -1.1146],\n",
      "         [-0.4492,  2.4952,  0.0620],\n",
      "         [-1.1146,  0.0620,  3.2680]],\n",
      "\n",
      "        [[ 3.1752, -0.4575, -1.0203],\n",
      "         [-0.4575,  2.7212,  0.0901],\n",
      "         [-1.0203,  0.0901,  3.3789]]])\n",
      "348 elements of gi are not symmetric\n",
      "tensor([[[ 2.0731,  0.3678, -0.0569],\n",
      "         [ 0.3678,  2.3114,  0.5446],\n",
      "         [-0.0569,  0.5446,  2.1504]],\n",
      "\n",
      "        [[ 2.0171,  0.3453,  0.1069],\n",
      "         [ 0.3453,  2.3346,  0.6457],\n",
      "         [ 0.1069,  0.6457,  2.5033]],\n",
      "\n",
      "        [[ 2.8979,  0.3458,  0.0848],\n",
      "         [ 0.3458,  3.3974,  0.8395],\n",
      "         [ 0.0848,  0.8395,  3.1625]],\n",
      "\n",
      "        ...,\n",
      "\n",
      "        [[ 2.2655, -0.0182, -0.2846],\n",
      "         [-0.0182,  2.9346,  0.8921],\n",
      "         [-0.2846,  0.8921,  2.9380]],\n",
      "\n",
      "        [[ 2.6194, -0.0588, -0.1121],\n",
      "         [-0.0588,  3.3186,  0.9499],\n",
      "         [-0.1121,  0.9499,  3.5495]],\n",
      "\n",
      "        [[ 2.6233, -0.1081, -0.2368],\n",
      "         [-0.1081,  3.3656,  1.0063],\n",
      "         [-0.2368,  1.0063,  3.5580]]])\n",
      "making gi symmetric\n",
      "342 elements of gm are not symmetric\n",
      "tensor([[[ 2.3885,  0.7224,  0.5185],\n",
      "         [ 0.7224,  3.3739,  0.0719],\n",
      "         [ 0.5185,  0.0719,  2.0700]],\n",
      "\n",
      "        [[ 2.0787, -1.0182, -0.6975],\n",
      "         [-1.0182,  1.6278,  0.3789],\n",
      "         [-0.6975,  0.3789,  2.2481]],\n",
      "\n",
      "        [[ 2.2009,  0.6703, -0.2519],\n",
      "         [ 0.6703,  2.1940,  0.3002],\n",
      "         [-0.2519,  0.3002,  1.7034]],\n",
      "\n",
      "        ...,\n",
      "\n",
      "        [[ 2.3285,  1.0097,  0.3919],\n",
      "         [ 1.0097,  2.1836, -0.2500],\n",
      "         [ 0.3919, -0.2500,  3.3220]],\n",
      "\n",
      "        [[ 2.3142,  0.9878,  0.4758],\n",
      "         [ 0.9878,  2.2471, -0.1777],\n",
      "         [ 0.4758, -0.1777,  3.5135]],\n",
      "\n",
      "        [[ 3.8070, -1.3162, -0.4528],\n",
      "         [-1.3162,  4.8500,  0.3096],\n",
      "         [-0.4528,  0.3096,  2.9553]]])\n",
      "114 elements of gm are not symmetric\n",
      "tensor([[[11.0378, -0.3916, -2.1132],\n",
      "         [-0.3916,  9.6774,  0.3028],\n",
      "         [-2.1132,  0.3028, 10.9097]],\n",
      "\n",
      "        [[10.6843, -0.9313, -1.9862],\n",
      "         [-0.9313, 10.2984,  0.3069],\n",
      "         [-1.9862,  0.3069, 11.4171]],\n",
      "\n",
      "        [[ 9.0998, -0.8875, -1.8185],\n",
      "         [-0.8875,  8.4695,  0.5876],\n",
      "         [-1.8185,  0.5876,  9.7224]],\n",
      "\n",
      "        ...,\n",
      "\n",
      "        [[ 8.4976,  0.1594,  1.7657],\n",
      "         [ 0.1594,  9.9197,  0.2603],\n",
      "         [ 1.7657,  0.2603, 10.1577]],\n",
      "\n",
      "        [[ 9.0351,  0.1900,  1.5968],\n",
      "         [ 0.1900,  9.8596,  0.3424],\n",
      "         [ 1.5968,  0.3424, 10.7695]],\n",
      "\n",
      "        [[ 8.3089, -0.0322,  1.0472],\n",
      "         [-0.0322,  9.3558,  0.3085],\n",
      "         [ 1.0472,  0.3085,  9.4507]]])\n",
      "178 elements of gm are not symmetric\n",
      "tensor([[[ 8.8211,  0.2701,  0.4080],\n",
      "         [ 0.2701,  8.9592,  1.1516],\n",
      "         [ 0.4080,  1.1516,  8.2253]],\n",
      "\n",
      "        [[ 3.3192, -0.2007, -0.2453],\n",
      "         [-0.2007,  4.3679,  1.0850],\n",
      "         [-0.2453,  1.0850,  4.2149]],\n",
      "\n",
      "        [[ 2.1556, -0.3486,  0.2892],\n",
      "         [-0.3486,  2.6456, -0.7315],\n",
      "         [ 0.2892, -0.7315,  2.8607]],\n",
      "\n",
      "        ...,\n",
      "\n",
      "        [[ 5.9926, -0.4982, -0.2965],\n",
      "         [-0.4982,  6.1084,  1.2947],\n",
      "         [-0.2965,  1.2947,  7.0324]],\n",
      "\n",
      "        [[ 5.5466, -0.6016, -0.3628],\n",
      "         [-0.6016,  6.3256,  1.2498],\n",
      "         [-0.3628,  1.2498,  6.8715]],\n",
      "\n",
      "        [[ 8.2040,  0.0409, -0.1027],\n",
      "         [ 0.0409,  8.1211,  1.1721],\n",
      "         [-0.1027,  1.1721, 10.2586]]])\n",
      "making gm symmetric\n",
      "W shape torch.Size([145, 174, 145, 3, 3]) torch.Size([3658350, 3, 3])\n"
     ]
    },
    {
     "ename": "IndexError",
     "evalue": "select(): index 3658350 out of range for tensor of size [3658350, 3] at dimension 0",
     "output_type": "error",
     "traceback": [
      "\u001b[0;31m---------------------------------------------------------------------------\u001b[0m",
      "\u001b[0;31mIndexError\u001b[0m                                Traceback (most recent call last)",
      "\u001b[0;32m<timed exec>\u001b[0m in \u001b[0;36m<module>\u001b[0;34m\u001b[0m\n",
      "\u001b[0;32m~/Software/DiffeomorphicMetricMatching/algo/metricMatching.py\u001b[0m in \u001b[0;36mmetric_matching\u001b[0;34m(gi, gm, height, width, depth, mask, iter_num, epsilon, sigma, dim, use_idty)\u001b[0m\n\u001b[1;32m     62\u001b[0m         \u001b[0;32melse\u001b[0m\u001b[0;34m:\u001b[0m\u001b[0;34m\u001b[0m\u001b[0;34m\u001b[0m\u001b[0m\n\u001b[1;32m     63\u001b[0m           \u001b[0;31m#E = energy_ebin_no_phi(phi_actsg0, phi_star_gm, phi_actsf0, f1, sigma, dim, mask)\u001b[0m\u001b[0;34m\u001b[0m\u001b[0;34m\u001b[0m\u001b[0;34m\u001b[0m\u001b[0m\n\u001b[0;32m---> 64\u001b[0;31m           \u001b[0mE\u001b[0m \u001b[0;34m=\u001b[0m \u001b[0menergy_ebin_no_phi\u001b[0m\u001b[0;34m(\u001b[0m\u001b[0mphi_actsg0\u001b[0m\u001b[0;34m,\u001b[0m \u001b[0mgm\u001b[0m\u001b[0;34m,\u001b[0m \u001b[0mphi_actsf0\u001b[0m\u001b[0;34m,\u001b[0m \u001b[0mf1\u001b[0m\u001b[0;34m,\u001b[0m \u001b[0msigma\u001b[0m\u001b[0;34m,\u001b[0m \u001b[0mdim\u001b[0m\u001b[0;34m,\u001b[0m \u001b[0mmask\u001b[0m\u001b[0;34m)\u001b[0m\u001b[0;34m\u001b[0m\u001b[0;34m\u001b[0m\u001b[0m\n\u001b[0m\u001b[1;32m     65\u001b[0m         \u001b[0mprint\u001b[0m\u001b[0;34m(\u001b[0m\u001b[0mj\u001b[0m\u001b[0;34m,\u001b[0m \u001b[0mE\u001b[0m\u001b[0;34m.\u001b[0m\u001b[0mitem\u001b[0m\u001b[0;34m(\u001b[0m\u001b[0;34m)\u001b[0m\u001b[0;34m)\u001b[0m\u001b[0;34m\u001b[0m\u001b[0;34m\u001b[0m\u001b[0m\n\u001b[1;32m     66\u001b[0m         \u001b[0mE\u001b[0m\u001b[0;34m.\u001b[0m\u001b[0mbackward\u001b[0m\u001b[0;34m(\u001b[0m\u001b[0;34m)\u001b[0m\u001b[0;34m\u001b[0m\u001b[0;34m\u001b[0m\u001b[0m\n",
      "\u001b[0;32m~/Software/DiffeomorphicMetricMatching/util/SplitEbinMetric3D.py\u001b[0m in \u001b[0;36menergy_ebin_no_phi\u001b[0;34m(g0, g1, f0, f1, sigma, dim, mask)\u001b[0m\n\u001b[1;32m    317\u001b[0m     \u001b[0;31m#phi_star_g1 = phi_pullback_3d(phi, g1)\u001b[0m\u001b[0;34m\u001b[0m\u001b[0;34m\u001b[0m\u001b[0;34m\u001b[0m\u001b[0m\n\u001b[1;32m    318\u001b[0m     \u001b[0;31m#phi_star_f1 = phi_pullback_3d(phi, f1)# the compose operation in this step uses a couple of thousands MB of memory\u001b[0m\u001b[0;34m\u001b[0m\u001b[0;34m\u001b[0m\u001b[0;34m\u001b[0m\u001b[0m\n\u001b[0;32m--> 319\u001b[0;31m     \u001b[0mE1\u001b[0m \u001b[0;34m=\u001b[0m \u001b[0msigma\u001b[0m \u001b[0;34m*\u001b[0m \u001b[0mSquared_distance_Ebin\u001b[0m\u001b[0;34m(\u001b[0m\u001b[0mf0\u001b[0m\u001b[0;34m,\u001b[0m \u001b[0mf1\u001b[0m\u001b[0;34m,\u001b[0m \u001b[0;36m1.\u001b[0m\u001b[0;34m/\u001b[0m\u001b[0mdim\u001b[0m\u001b[0;34m,\u001b[0m \u001b[0mmask\u001b[0m\u001b[0;34m)\u001b[0m\u001b[0;34m\u001b[0m\u001b[0;34m\u001b[0m\u001b[0m\n\u001b[0m\u001b[1;32m    320\u001b[0m     \u001b[0mE2\u001b[0m \u001b[0;34m=\u001b[0m \u001b[0mSquared_distance_Ebin\u001b[0m\u001b[0;34m(\u001b[0m\u001b[0mg0\u001b[0m\u001b[0;34m,\u001b[0m \u001b[0mg1\u001b[0m\u001b[0;34m,\u001b[0m \u001b[0;36m1.\u001b[0m\u001b[0;34m/\u001b[0m\u001b[0mdim\u001b[0m\u001b[0;34m,\u001b[0m \u001b[0mmask\u001b[0m\u001b[0;34m)\u001b[0m\u001b[0;34m\u001b[0m\u001b[0;34m\u001b[0m\u001b[0m\n\u001b[1;32m    321\u001b[0m     \u001b[0;32mreturn\u001b[0m \u001b[0mE1\u001b[0m \u001b[0;34m+\u001b[0m \u001b[0mE2\u001b[0m\u001b[0;34m\u001b[0m\u001b[0;34m\u001b[0m\u001b[0m\n",
      "\u001b[0;32m~/Software/DiffeomorphicMetricMatching/util/SplitEbinMetric3D.py\u001b[0m in \u001b[0;36mSquared_distance_Ebin\u001b[0;34m(g0, g1, a, mask)\u001b[0m\n\u001b[1;32m    285\u001b[0m \u001b[0;31m#     3.3.4 https://www.cs.utah.edu/~haocheng/notes/NoteonMatching.pdf\u001b[0m\u001b[0;34m\u001b[0m\u001b[0;34m\u001b[0m\u001b[0;34m\u001b[0m\u001b[0m\n\u001b[1;32m    286\u001b[0m     \u001b[0minv_g0_g1\u001b[0m \u001b[0;34m=\u001b[0m \u001b[0mtorch\u001b[0m\u001b[0;34m.\u001b[0m\u001b[0meinsum\u001b[0m\u001b[0;34m(\u001b[0m\u001b[0;34m\"...ik,...kj->...ij\"\u001b[0m\u001b[0;34m,\u001b[0m \u001b[0mtorch\u001b[0m\u001b[0;34m.\u001b[0m\u001b[0minverse\u001b[0m\u001b[0;34m(\u001b[0m\u001b[0mg0\u001b[0m\u001b[0;34m)\u001b[0m\u001b[0;34m,\u001b[0m \u001b[0mg1\u001b[0m\u001b[0;34m)\u001b[0m\u001b[0;34m\u001b[0m\u001b[0;34m\u001b[0m\u001b[0m\n\u001b[0;32m--> 287\u001b[0;31m     \u001b[0mtrK0square\u001b[0m \u001b[0;34m=\u001b[0m \u001b[0mtrKsquare\u001b[0m\u001b[0;34m(\u001b[0m\u001b[0mg0\u001b[0m\u001b[0;34m,\u001b[0m \u001b[0mg1\u001b[0m\u001b[0;34m,\u001b[0m \u001b[0mmask\u001b[0m\u001b[0;34m)\u001b[0m \u001b[0;34m-\u001b[0m \u001b[0mtorch\u001b[0m\u001b[0;34m.\u001b[0m\u001b[0mlog\u001b[0m\u001b[0;34m(\u001b[0m\u001b[0mtorch\u001b[0m\u001b[0;34m.\u001b[0m\u001b[0mdet\u001b[0m\u001b[0;34m(\u001b[0m\u001b[0minv_g0_g1\u001b[0m\u001b[0;34m)\u001b[0m\u001b[0;34m)\u001b[0m \u001b[0;34m**\u001b[0m \u001b[0;36m2\u001b[0m \u001b[0;34m*\u001b[0m\u001b[0ma\u001b[0m  \u001b[0;31m# torch.log(torch.det(inv_g0_g1) + 1e-25)\u001b[0m\u001b[0;34m\u001b[0m\u001b[0;34m\u001b[0m\u001b[0m\n\u001b[0m\u001b[1;32m    288\u001b[0m     \u001b[0;31m#trK0square = trKsquare(g0, g1) - torch.log(vlinalg.vDet(inv_g0_g1.permute((3,4,0,1,2)).reshape((1,9,*g0.shape[0:3]))).reshape((*g0.shape[0:3]))) ** 2 *a  # torch.log(torch.det(inv_g0_g1) + 1e-25)\u001b[0m\u001b[0;34m\u001b[0m\u001b[0;34m\u001b[0m\u001b[0;34m\u001b[0m\u001b[0m\n\u001b[1;32m    289\u001b[0m     \u001b[0;31m#trK0square = trKsquare(g0, g1)\u001b[0m\u001b[0;34m\u001b[0m\u001b[0;34m\u001b[0m\u001b[0;34m\u001b[0m\u001b[0m\n",
      "\u001b[0;32m~/Software/DiffeomorphicMetricMatching/util/SplitEbinMetric3D.py\u001b[0m in \u001b[0;36mtrKsquare\u001b[0;34m(B, A, mask)\u001b[0m\n\u001b[1;32m    251\u001b[0m     \u001b[0;31m# Sym3Eig needs shape [-1,3,3]\u001b[0m\u001b[0;34m\u001b[0m\u001b[0;34m\u001b[0m\u001b[0;34m\u001b[0m\u001b[0m\n\u001b[1;32m    252\u001b[0m     \u001b[0mprint\u001b[0m\u001b[0;34m(\u001b[0m\u001b[0;34m'W shape'\u001b[0m\u001b[0;34m,\u001b[0m \u001b[0mW\u001b[0m\u001b[0;34m.\u001b[0m\u001b[0mshape\u001b[0m\u001b[0;34m,\u001b[0m \u001b[0mW\u001b[0m\u001b[0;34m.\u001b[0m\u001b[0mreshape\u001b[0m\u001b[0;34m(\u001b[0m\u001b[0;34m(\u001b[0m\u001b[0;34m-\u001b[0m\u001b[0;36m1\u001b[0m\u001b[0;34m,\u001b[0m\u001b[0;36m3\u001b[0m\u001b[0;34m,\u001b[0m\u001b[0;36m3\u001b[0m\u001b[0;34m)\u001b[0m\u001b[0;34m)\u001b[0m\u001b[0;34m.\u001b[0m\u001b[0mshape\u001b[0m\u001b[0;34m)\u001b[0m\u001b[0;34m\u001b[0m\u001b[0;34m\u001b[0m\u001b[0m\n\u001b[0;32m--> 253\u001b[0;31m     \u001b[0mlamda\u001b[0m \u001b[0;34m=\u001b[0m \u001b[0mSym3Eig\u001b[0m\u001b[0;34m.\u001b[0m\u001b[0mapply\u001b[0m\u001b[0;34m(\u001b[0m\u001b[0mW\u001b[0m\u001b[0;34m.\u001b[0m\u001b[0mreshape\u001b[0m\u001b[0;34m(\u001b[0m\u001b[0;34m(\u001b[0m\u001b[0;34m-\u001b[0m\u001b[0;36m1\u001b[0m\u001b[0;34m,\u001b[0m\u001b[0;36m3\u001b[0m\u001b[0;34m,\u001b[0m\u001b[0;36m3\u001b[0m\u001b[0;34m)\u001b[0m\u001b[0;34m)\u001b[0m\u001b[0;34m)\u001b[0m\u001b[0;34m[\u001b[0m\u001b[0;36m0\u001b[0m\u001b[0;34m]\u001b[0m\u001b[0;34m.\u001b[0m\u001b[0mreshape\u001b[0m\u001b[0;34m(\u001b[0m\u001b[0;34m(\u001b[0m\u001b[0;34m*\u001b[0m\u001b[0mW\u001b[0m\u001b[0;34m.\u001b[0m\u001b[0mshape\u001b[0m\u001b[0;34m[\u001b[0m\u001b[0;36m0\u001b[0m\u001b[0;34m:\u001b[0m\u001b[0;36m3\u001b[0m\u001b[0;34m]\u001b[0m\u001b[0;34m,\u001b[0m\u001b[0;36m3\u001b[0m\u001b[0;34m)\u001b[0m\u001b[0;34m)\u001b[0m\u001b[0;34m\u001b[0m\u001b[0;34m\u001b[0m\u001b[0m\n\u001b[0m\u001b[1;32m    254\u001b[0m     \u001b[0mresult\u001b[0m \u001b[0;34m=\u001b[0m \u001b[0mtorch\u001b[0m\u001b[0;34m.\u001b[0m\u001b[0msum\u001b[0m\u001b[0;34m(\u001b[0m\u001b[0mtorch\u001b[0m\u001b[0;34m.\u001b[0m\u001b[0mlog\u001b[0m\u001b[0;34m(\u001b[0m\u001b[0mlamda\u001b[0m\u001b[0;34m)\u001b[0m \u001b[0;34m**\u001b[0m \u001b[0;36m2\u001b[0m\u001b[0;34m,\u001b[0m \u001b[0;34m(\u001b[0m\u001b[0;34m-\u001b[0m\u001b[0;36m1\u001b[0m\u001b[0;34m)\u001b[0m\u001b[0;34m)\u001b[0m\u001b[0;34m\u001b[0m\u001b[0;34m\u001b[0m\u001b[0m\n\u001b[1;32m    255\u001b[0m     \u001b[0mprint\u001b[0m\u001b[0;34m(\u001b[0m\u001b[0;34m'trKsquare new'\u001b[0m\u001b[0;34m,\u001b[0m\u001b[0mlamda\u001b[0m\u001b[0;34m.\u001b[0m\u001b[0mshape\u001b[0m\u001b[0;34m,\u001b[0m\u001b[0mresult\u001b[0m\u001b[0;34m.\u001b[0m\u001b[0mshape\u001b[0m\u001b[0;34m,\u001b[0m\u001b[0mtorch\u001b[0m\u001b[0;34m.\u001b[0m\u001b[0mmax\u001b[0m\u001b[0;34m(\u001b[0m\u001b[0mlamda\u001b[0m\u001b[0;34m)\u001b[0m\u001b[0;34m,\u001b[0m \u001b[0mtorch\u001b[0m\u001b[0;34m.\u001b[0m\u001b[0mmin\u001b[0m\u001b[0;34m(\u001b[0m\u001b[0mlamda\u001b[0m\u001b[0;34m)\u001b[0m\u001b[0;34m)\u001b[0m\u001b[0;34m\u001b[0m\u001b[0;34m\u001b[0m\u001b[0m\n",
      "\u001b[0;32m~/Software/py3_venv_nsfcrcns/lib64/python3.6/site-packages/torch_sym3eig/sym3eig.py\u001b[0m in \u001b[0;36mapply\u001b[0;34m(x)\u001b[0m\n\u001b[1;32m     26\u001b[0m     \u001b[0;34m@\u001b[0m\u001b[0mstaticmethod\u001b[0m\u001b[0;34m\u001b[0m\u001b[0;34m\u001b[0m\u001b[0m\n\u001b[1;32m     27\u001b[0m     \u001b[0;32mdef\u001b[0m \u001b[0mapply\u001b[0m\u001b[0;34m(\u001b[0m\u001b[0mx\u001b[0m\u001b[0;34m)\u001b[0m\u001b[0;34m:\u001b[0m\u001b[0;34m\u001b[0m\u001b[0;34m\u001b[0m\u001b[0m\n\u001b[0;32m---> 28\u001b[0;31m         \u001b[0meig_val\u001b[0m\u001b[0;34m,\u001b[0m \u001b[0meig_vec\u001b[0m \u001b[0;34m=\u001b[0m \u001b[0mSym3Eig_core\u001b[0m\u001b[0;34m.\u001b[0m\u001b[0mapply\u001b[0m\u001b[0;34m(\u001b[0m\u001b[0mx\u001b[0m\u001b[0;34m)\u001b[0m\u001b[0;34m\u001b[0m\u001b[0;34m\u001b[0m\u001b[0m\n\u001b[0m\u001b[1;32m     29\u001b[0m \u001b[0;34m\u001b[0m\u001b[0m\n\u001b[1;32m     30\u001b[0m         \u001b[0;32mreturn\u001b[0m \u001b[0meig_val\u001b[0m\u001b[0;34m,\u001b[0m \u001b[0meig_vec\u001b[0m\u001b[0;34m\u001b[0m\u001b[0;34m\u001b[0m\u001b[0m\n",
      "\u001b[0;32m~/Software/py3_venv_nsfcrcns/lib64/python3.6/site-packages/torch_sym3eig/sym3eig.py\u001b[0m in \u001b[0;36mforward\u001b[0;34m(ctx, matrices)\u001b[0m\n\u001b[1;32m     38\u001b[0m         \u001b[0mmatrices\u001b[0m \u001b[0;34m=\u001b[0m \u001b[0;34m(\u001b[0m\u001b[0mmatrices\u001b[0m \u001b[0;34m+\u001b[0m \u001b[0mtorch\u001b[0m\u001b[0;34m.\u001b[0m\u001b[0mtranspose\u001b[0m\u001b[0;34m(\u001b[0m\u001b[0mmatrices\u001b[0m\u001b[0;34m,\u001b[0m \u001b[0;36m1\u001b[0m\u001b[0;34m,\u001b[0m \u001b[0;36m2\u001b[0m\u001b[0;34m)\u001b[0m\u001b[0;34m)\u001b[0m\u001b[0;34m/\u001b[0m\u001b[0;36m2\u001b[0m\u001b[0;34m\u001b[0m\u001b[0;34m\u001b[0m\u001b[0m\n\u001b[1;32m     39\u001b[0m         \u001b[0mop\u001b[0m \u001b[0;34m=\u001b[0m \u001b[0mget_func\u001b[0m\u001b[0;34m(\u001b[0m\u001b[0;34m'sym3eig_fw'\u001b[0m\u001b[0;34m,\u001b[0m \u001b[0mmatrices\u001b[0m\u001b[0;34m)\u001b[0m\u001b[0;34m\u001b[0m\u001b[0;34m\u001b[0m\u001b[0m\n\u001b[0;32m---> 40\u001b[0;31m         \u001b[0meig_val\u001b[0m\u001b[0;34m,\u001b[0m \u001b[0meig_vec\u001b[0m \u001b[0;34m=\u001b[0m \u001b[0mop\u001b[0m\u001b[0;34m(\u001b[0m\u001b[0mmatrices\u001b[0m\u001b[0;34m)\u001b[0m\u001b[0;34m\u001b[0m\u001b[0;34m\u001b[0m\u001b[0m\n\u001b[0m\u001b[1;32m     41\u001b[0m         \u001b[0mctx\u001b[0m\u001b[0;34m.\u001b[0m\u001b[0msave_for_backward\u001b[0m\u001b[0;34m(\u001b[0m\u001b[0meig_val\u001b[0m\u001b[0;34m,\u001b[0m \u001b[0meig_vec\u001b[0m\u001b[0;34m)\u001b[0m\u001b[0;34m\u001b[0m\u001b[0;34m\u001b[0m\u001b[0m\n\u001b[1;32m     42\u001b[0m         \u001b[0;32mreturn\u001b[0m \u001b[0meig_val\u001b[0m\u001b[0;34m,\u001b[0m \u001b[0meig_vec\u001b[0m\u001b[0;34m\u001b[0m\u001b[0;34m\u001b[0m\u001b[0m\n",
      "\u001b[0;31mIndexError\u001b[0m: select(): index 3658350 out of range for tensor of size [3658350, 3] at dimension 0"
     ]
    }
   ],
   "source": [
    "%%time\n",
    "#use_idty=True\n",
    "use_idty=False\n",
    "dim, sigma, epsilon, iter_num = 3., 0, 5e-3, 3\n",
    "height, width, depth = 145,174,145\n",
    "#with torch.autograd.detect_anomaly():\n",
    "with torch.autograd.profiler.profile(use_cuda=True) as prof:\n",
    "  tens_0_def, phi_0, phi_inv_0 = metric_matching(torch.inverse(torch_tens_0), \n",
    "                                                 torch.inverse(torch_tens_1), \n",
    "                                                 height, width, depth, mask_union, iter_num, epsilon, sigma,dim,use_idty)\n",
    "print(prof.key_averages().table(sort_by=\"self_cpu_time_total\"))\n",
    "# Torch CPU 3 iters: CPU time: 7 min 17 s, Wall time: 2 min 7s\n",
    "# Torch CPU 3 iters: CPU time: 4min 7 s, Wall time: 1 min 39s\n",
    "# Torch GPU w/ anomaly detection 3 iters: CPU time: 40 min 20s, Wall time: 38 min 7s\n",
    "# Torch GPU 3 iters: CPU time: 39min 38s, Wall time: 37min 55s\n",
    "\n"
   ]
  },
  {
   "cell_type": "code",
   "execution_count": 12,
   "metadata": {},
   "outputs": [],
   "source": [
    "#tens_0_idty = tens_0_def\n",
    "#phi_0_idty = phi_0\n",
    "#phi_inv_0_idty = phi_inv_0\n",
    "#tens_0_phi_inv = tens_0_def\n",
    "#phi_0_phi_inv = phi_0\n",
    "#phi_inv_0_phi_inv = phi_inv_0\n",
    "tens_0_def_GPU = tens_0_def.cpu().detach()\n",
    "phi_0_GPU = phi_0.cpu().detach()\n",
    "phi_inv_0_GPU = phi_inv_0.cpu().detach()"
   ]
  },
  {
   "cell_type": "code",
   "execution_count": 12,
   "metadata": {},
   "outputs": [
    {
     "name": "stdout",
     "output_type": "stream",
     "text": [
      "tensor(0.) tensor(0.)\n",
      "tensor(0.) tensor(0.)\n",
      "tensor(0.) tensor(0.)\n"
     ]
    }
   ],
   "source": [
    "tens_diff = tens_0_idty - tens_0_phi_inv\n",
    "phi_diff = phi_0_idty - phi_0_phi_inv\n",
    "phi_inv_diff = phi_inv_0_idty - phi_inv_0_phi_inv\n",
    "print(torch.max(tens_diff),torch.min(tens_diff))\n",
    "print(torch.max(phi_diff),torch.min(phi_diff))\n",
    "print(torch.max(phi_inv_diff),torch.min(phi_inv_diff))"
   ]
  },
  {
   "cell_type": "code",
   "execution_count": 14,
   "metadata": {},
   "outputs": [
    {
     "name": "stdout",
     "output_type": "stream",
     "text": [
      "tensor(0.0001) tensor(-9.1553e-05)\n",
      "tensor(6.1035e-05) tensor(-6.1035e-05)\n",
      "tensor(6.1035e-05) tensor(-6.1035e-05)\n"
     ]
    }
   ],
   "source": [
    "tens_diff_GPU = tens_0_def_GPU.cpu() - tens_0_phi_inv\n",
    "phi_diff_GPU = phi_0_GPU.cpu() - phi_0_phi_inv\n",
    "phi_inv_diff_GPU = phi_inv_0_GPU.cpu() - phi_inv_0_phi_inv\n",
    "print(torch.max(tens_diff_GPU),torch.min(tens_diff_GPU))\n",
    "print(torch.max(phi_diff_GPU),torch.min(phi_diff_GPU))\n",
    "print(torch.max(phi_inv_diff_GPU),torch.min(phi_inv_diff_GPU))"
   ]
  },
  {
   "cell_type": "code",
   "execution_count": 24,
   "metadata": {},
   "outputs": [],
   "source": [
    "#del tens_0_def_GPU, phi_0_GPU, phi_inv_0_GPU\n",
    "del tens_0_def, phi_0, phi_inv_0\n",
    "torch.cuda.empty_cache()"
   ]
  },
  {
   "cell_type": "code",
   "execution_count": 20,
   "metadata": {},
   "outputs": [
    {
     "data": {
      "application/vnd.jupyter.widget-view+json": {
       "model_id": "6a8b3e3f66c644279f3193516a9c52a2",
       "version_major": 2,
       "version_minor": 0
      },
      "text/plain": [
       "Viewer(geometries=[], gradient_opacity=0.22, point_sets=[], rendered_image=<itk.itkImagePython.itkImageF3; pro…"
      ]
     },
     "metadata": {},
     "output_type": "display_data"
    }
   ],
   "source": [
    "idty = get_idty_3d(height, width, depth)\n",
    "itkview((phi_inv_0_idty-idty).cpu().detach().numpy()[2,:,:,:])\n"
   ]
  },
  {
   "cell_type": "code",
   "execution_count": 21,
   "metadata": {},
   "outputs": [
    {
     "data": {
      "application/vnd.jupyter.widget-view+json": {
       "model_id": "f119418fe6af4cd7a459c5aeef286dbc",
       "version_major": 2,
       "version_minor": 0
      },
      "text/plain": [
       "Viewer(geometries=[], gradient_opacity=0.22, point_sets=[], rendered_image=<itk.itkImagePython.itkImageF3; pro…"
      ]
     },
     "metadata": {},
     "output_type": "display_data"
    }
   ],
   "source": [
    "itkview((phi_inv_0_phi_inv-idty).cpu().detach().numpy()[2,:,:,:])"
   ]
  },
  {
   "cell_type": "code",
   "execution_count": 32,
   "metadata": {},
   "outputs": [],
   "source": [
    "def new_get_gradient_3d(F):  # 3D F: size_h x size_w x size_d\n",
    "    print(F.device)\n",
    "    F_padded = torch.zeros((F.shape[0] + 2, F.shape[1] + 2, F.shape[2] + 2), device=F.device, dtype=torch.double)\n",
    "    print(F_padded.device)\n",
    "    F_padded[1:-1, 1:-1, 1:-1] = F\n",
    "    F_padded[0, :, :] = F_padded[1, :, :]\n",
    "    F_padded[-1, :, :] = F_padded[-2, :, :]\n",
    "    F_padded[:, 0, :] = F_padded[:, 1, :]\n",
    "    F_padded[:, -1, :] = F_padded[:, -2, :]\n",
    "    F_padded[:, :, 0] = F_padded[:, :, 1]\n",
    "    F_padded[:, :, -1] = F_padded[:, :, -2]\n",
    "#     original\n",
    "#     F_x = (torch.roll(F_padded, shifts=(0, 0, -1), dims=(0, 1, 2))\n",
    "#            - torch.roll(F_padded, shifts=(0, 0, 1), dims=(0, 1, 2))) / 2\n",
    "#     F_y = (torch.roll(F_padded, shifts=(0, -1, 0), dims=(0, 1, 2))\n",
    "#            - torch.roll(F_padded, shifts=(0, 1, 0), dims=(0, 1, 2))) / 2\n",
    "#     F_z = (torch.roll(F_padded, shifts=(-1, 0, 0), dims=(0, 1, 2))\n",
    "#            - torch.roll(F_padded, shifts=(1, 0, 0), dims=(0, 1, 2))) / 2\n",
    "# 4.3 version\n",
    "    F_x = (torch.roll(F_padded, shifts=(-1, 0, 0), dims=(0, 1, 2))\n",
    "           - torch.roll(F_padded, shifts=(1, 0, 0), dims=(0, 1, 2))) / 2\n",
    "    F_y = (torch.roll(F_padded, shifts=(0, -1, 0), dims=(0, 1, 2))\n",
    "           - torch.roll(F_padded, shifts=(0, 1, 0), dims=(0, 1, 2))) / 2\n",
    "    F_z = (torch.roll(F_padded, shifts=(0, 0, -1), dims=(0, 1, 2))\n",
    "           - torch.roll(F_padded, shifts=(0, 0, 1), dims=(0, 1, 2))) / 2\n",
    "    print(F_x.device)\n",
    "    print(F_y.device)\n",
    "    print(F_z.device)\n",
    "    retval = torch.stack((F_x[1:-1, 1:-1, 1:-1],\n",
    "                        F_y[1:-1, 1:-1, 1:-1],\n",
    "                        F_z[1:-1, 1:-1, 1:-1]))\n",
    "    print(retval.device)\n",
    "    print(retval.dtype)\n",
    "    return retval\n"
   ]
  },
  {
   "cell_type": "code",
   "execution_count": 14,
   "metadata": {},
   "outputs": [
    {
     "name": "stdout",
     "output_type": "stream",
     "text": [
      "cuda:1\n",
      "cuda:1\n",
      "cuda:1\n",
      "cuda:1\n",
      "cuda:1\n",
      "torch.Size([3, 145, 174, 145]) torch.Size([3, 145, 174, 145])\n",
      "cuda:1\n",
      "cuda:1 cuda:1 cuda:1\n",
      "cuda:1\n",
      "cuda:1\n"
     ]
    }
   ],
   "source": [
    "dim, sigma, epsilon, iter_num = 3., 0, 5e-3, 3\n",
    "height, width, depth = 145,174,145\n",
    "\n",
    "gi = torch.inverse(torch_tens_0)\n",
    "#print(phi_inv.shape, gi.shape)\n",
    "print(gi.device)\n",
    "phi_inv = get_idty_3d(height, width, depth).to(gi.device)\n",
    "print(phi_inv.device)\n",
    "g = gi.permute(3, 4, 0, 1, 2)\n",
    "idty = get_idty_3d(*g.shape[-3:]).to(g.device)\n",
    "print(idty.device)\n",
    "eye = torch.eye(3, device=phi_inv.device)\n",
    "print(eye.device)\n",
    "ones = torch.ones(*g.shape[-3:], device=g.device)\n",
    "print(ones.device)\n",
    "print(phi_inv.shape, idty.shape)\n",
    "phidiff = phi_inv - idty\n",
    "print(phidiff.device)\n",
    "grad0 = get_gradient_3d(phidiff[0])\n",
    "grad1 = get_gradient_3d(phidiff[1])\n",
    "grad2 = get_gradient_3d(phidiff[2])\n",
    "print(grad0.device, grad1.device, grad2.device)\n",
    "jac = torch.stack((grad0, grad1, grad2))\n",
    "print(jac.device)\n",
    "#d_phi = get_jacobian_matrix_3d(phi - idty) + torch.einsum(\"ij,mno->ijmno\", eye, ones)\n",
    "d_phi = jac + torch.einsum(\"ij,mno->ijmno\", eye, ones)\n",
    "print(d_phi.device)\n",
    "g_phi = compose_function_3d(g, phi_inv)\n",
    "phi_gi = torch.einsum(\"ij...,ik...,kl...->...jl\", d_phi, g_phi, d_phi)\n"
   ]
  },
  {
   "cell_type": "code",
   "execution_count": 15,
   "metadata": {},
   "outputs": [
    {
     "name": "stdout",
     "output_type": "stream",
     "text": [
      "4.765183998500788e-07 -4.7452222595723015e-07\n"
     ]
    }
   ],
   "source": [
    "delt = (phi_gi - gi).cpu().detach().numpy()\n",
    "print(np.max(delt),np.min(delt))"
   ]
  },
  {
   "cell_type": "code",
   "execution_count": 12,
   "metadata": {},
   "outputs": [],
   "source": [
    "#tens_0_def_CPU = tens_0_def.detach().numpy()\n",
    "#phi_0_CPU = phi_0.detach().numpy()\n",
    "#phi_inv_0_CPU = phi_inv_0.detach().numpy()\n",
    "#tens_0_def_GPU = tens_0_def.detach().numpy()\n",
    "#phi_0_GPU = phi_0.detach().numpy()\n",
    "#phi_inv_0_GPU = phi_inv_0.detach().numpy()"
   ]
  },
  {
   "cell_type": "code",
   "execution_count": 13,
   "metadata": {},
   "outputs": [
    {
     "name": "stdout",
     "output_type": "stream",
     "text": [
      "0.0 0.0\n",
      "0.0 0.0\n",
      "0.0 0.0\n"
     ]
    }
   ],
   "source": [
    "#tens_def_diff = tens_0_def_CPU-tens_0_def_GPU\n",
    "#phi_diff = phi_0_CPU - phi_0_GPU\n",
    "#phi_inv_diff = phi_inv_0_CPU - phi_inv_0_GPU\n",
    "#print(np.max(tens_def_diff),np.min(tens_def_diff))\n",
    "#print(np.max(phi_diff),np.min(phi_diff))\n",
    "#print(np.max(phi_inv_diff),np.min(phi_inv_diff))"
   ]
  },
  {
   "cell_type": "code",
   "execution_count": 10,
   "metadata": {},
   "outputs": [
    {
     "ename": "NameError",
     "evalue": "name 'tens_0_def' is not defined",
     "output_type": "error",
     "traceback": [
      "\u001b[0;31m---------------------------------------------------------------------------\u001b[0m",
      "\u001b[0;31mNameError\u001b[0m                                 Traceback (most recent call last)",
      "\u001b[0;32m<ipython-input-10-356a40a2786b>\u001b[0m in \u001b[0;36m<module>\u001b[0;34m\u001b[0m\n\u001b[0;32m----> 1\u001b[0;31m met_def_0_1_dist = Squared_distance_Ebin_field(tens_0_def, \n\u001b[0m\u001b[1;32m      2\u001b[0m                                            \u001b[0mtorch\u001b[0m\u001b[0;34m.\u001b[0m\u001b[0minverse\u001b[0m\u001b[0;34m(\u001b[0m\u001b[0mtorch_tens_1\u001b[0m\u001b[0;34m)\u001b[0m\u001b[0;34m,\u001b[0m\u001b[0;34m\u001b[0m\u001b[0;34m\u001b[0m\u001b[0m\n\u001b[1;32m      3\u001b[0m                                            \u001b[0;36m1.\u001b[0m\u001b[0;34m/\u001b[0m\u001b[0;36m2\u001b[0m\u001b[0;34m,\u001b[0m\u001b[0;34m\u001b[0m\u001b[0;34m\u001b[0m\u001b[0m\n\u001b[1;32m      4\u001b[0m                                            mask_union).detach().numpy()\n\u001b[1;32m      5\u001b[0m G_def = torch.stack((tens_0_def,\n",
      "\u001b[0;31mNameError\u001b[0m: name 'tens_0_def' is not defined"
     ]
    }
   ],
   "source": [
    "met_def_0_1_dist = Squared_distance_Ebin_field(tens_0_def, \n",
    "                                           torch.inverse(torch_tens_1), \n",
    "                                           1./2, \n",
    "                                           mask_union).detach().numpy()\n",
    "G_def = torch.stack((tens_0_def,\n",
    "                 torch.inverse(torch_tens_1)))\n",
    "dim = 3.\n",
    "kmean_def = get_karcher_mean(G_def, 1./dim)\n",
    "\n"
   ]
  },
  {
   "cell_type": "code",
   "execution_count": 23,
   "metadata": {},
   "outputs": [
    {
     "data": {
      "application/vnd.jupyter.widget-view+json": {
       "model_id": "f3ad2e49273f45d594e08b56e1f7441a",
       "version_major": 2,
       "version_minor": 0
      },
      "text/plain": [
       "Viewer(geometries=[], gradient_opacity=0.22, point_sets=[], rendered_image=<itk.itkImagePython.itkImageD3; pro…"
      ]
     },
     "metadata": {},
     "output_type": "display_data"
    }
   ],
   "source": [
    "itkview(met_0_1_dist)"
   ]
  },
  {
   "cell_type": "code",
   "execution_count": 24,
   "metadata": {},
   "outputs": [
    {
     "data": {
      "application/vnd.jupyter.widget-view+json": {
       "model_id": "b1fb88615a3e454dbca77bf221ad087a",
       "version_major": 2,
       "version_minor": 0
      },
      "text/plain": [
       "Viewer(geometries=[], gradient_opacity=0.22, point_sets=[], rendered_image=<itk.itkImagePython.itkImageD3; pro…"
      ]
     },
     "metadata": {},
     "output_type": "display_data"
    }
   ],
   "source": [
    "itkview(met_def_0_1_dist)"
   ]
  },
  {
   "cell_type": "code",
   "execution_count": 25,
   "metadata": {},
   "outputs": [
    {
     "data": {
      "application/vnd.jupyter.widget-view+json": {
       "model_id": "e46c6132ab774dd5b1c54dc30ac808bf",
       "version_major": 2,
       "version_minor": 0
      },
      "text/plain": [
       "Viewer(geometries=[], gradient_opacity=0.22, point_sets=[], rendered_image=<itk.itkImagePython.itkImageD3; pro…"
      ]
     },
     "metadata": {},
     "output_type": "display_data"
    }
   ],
   "source": [
    "itkview(kmean[:,:,:,0,0])"
   ]
  },
  {
   "cell_type": "code",
   "execution_count": 26,
   "metadata": {},
   "outputs": [
    {
     "data": {
      "application/vnd.jupyter.widget-view+json": {
       "model_id": "acf6ad72e50846daaf2f9f00efbb6019",
       "version_major": 2,
       "version_minor": 0
      },
      "text/plain": [
       "Viewer(geometries=[], gradient_opacity=0.22, point_sets=[], rendered_image=<itk.itkImagePython.itkImageD3; pro…"
      ]
     },
     "metadata": {},
     "output_type": "display_data"
    }
   ],
   "source": [
    "itkview(kmean_def[:,:,:,0,0])"
   ]
  },
  {
   "cell_type": "code",
   "execution_count": 29,
   "metadata": {},
   "outputs": [
    {
     "data": {
      "text/plain": [
       "device(type='cpu')"
      ]
     },
     "execution_count": 29,
     "metadata": {},
     "output_type": "execute_result"
    }
   ],
   "source": [
    "tens_0_def.device"
   ]
  },
  {
   "cell_type": "code",
   "execution_count": 31,
   "metadata": {},
   "outputs": [
    {
     "data": {
      "text/plain": [
       "device(type='cuda', index=1)"
      ]
     },
     "execution_count": 31,
     "metadata": {},
     "output_type": "execute_result"
    }
   ],
   "source": [
    "torch.from_numpy(tens_0).cuda().device"
   ]
  },
  {
   "cell_type": "code",
   "execution_count": 32,
   "metadata": {},
   "outputs": [
    {
     "data": {
      "text/plain": [
       "device(type='cuda', index=1)"
      ]
     },
     "execution_count": 32,
     "metadata": {},
     "output_type": "execute_result"
    }
   ],
   "source": [
    "torch.zeros((3,3)).device"
   ]
  },
  {
   "cell_type": "code",
   "execution_count": 64,
   "metadata": {},
   "outputs": [],
   "source": [
    "SQRT3 = 1.73205080756887729352744634151\n",
    "def sym_eigenvals(g):\n",
    "  # g.shape is [h,w,d,3,3]\n",
    "  # Cardano algorithm from https://www.mpi-hd.mpg.de/personalhomes/globes/3x3/index.html\n",
    "  # Determine coefficients of characteristic poynomial. We write\n",
    "  #       | a   d   f  |\n",
    "  #  A =  | d*  b   e  |\n",
    "  #       | f*  e*  c  |\n",
    "  de = g[:,:,:,0,1] * g[:,:,:,1,2]                                   # d * e\n",
    "  dd = g[:,:,:,0,1] ** 2                                         # d^2\n",
    "  ee = g[:,:,:,1,2] ** 2                                         # e^2\n",
    "  ff = g[:,:,:,0,2] ** 2                                         # f^2\n",
    "  m  =  g[:,:,:,0,0] +  g[:,:,:,1,1] +  g[:,:,:,2,2]\n",
    "  c1 = g[:,:,:,0,0]*g[:,:,:,1,1] + g[:,:,:,0,0]*g[:,:,:,2,2] + g[:,:,:,1,1]*g[:,:,:,2,2] - (dd + ee + ff)        # a*b + a*c + b*c - d^2 - e^2 - f^2\n",
    "  c0 = g[:,:,:,2,2]*dd + g[:,:,:,0,0]*ee + g[:,:,:,1,1]*ff -  g[:,:,:,0,0]*g[:,:,:,1,1]*g[:,:,:,2,2] - 2.0 * g[:,:,:,0,2]*de # c*d^2 + a*e^2 + b*f^2 - a*b*c - 2*f*d*e\n",
    "\n",
    "  p = m * m - 3.0*c1\n",
    "  q = m*(p - (3.0/2.0)*c1) - (27.0/2.0)*c0\n",
    "  sqrt_p = torch.sqrt(torch.abs(p))\n",
    "\n",
    "  phi = 27.0 * ( 0.25*c1*c1*(p - c1) + c0*(q + 27.0/4.0*c0))\n",
    "  phi = (1.0/3.0) * torch.atan2(torch.sqrt(torch.abs(phi)), q)\n",
    "  \n",
    "  c = sqrt_p*torch.cos(phi)\n",
    "  s = (1.0/SQRT3)*sqrt_p*torch.sin(phi)\n",
    "\n",
    "  #w[1]  = (1.0/3.0)*(m - c)\n",
    "  #w[2]  = w[1] + s\n",
    "  #w[0]  = w[1] + c\n",
    "  #w[1] -= s\n",
    "\n",
    "  lambda2 = (1.0/3.0)*(m - c)\n",
    "  lambda3 = lambda2 + s\n",
    "  lambda1 = lambda2 + c\n",
    "  \n",
    "  eigenVals = torch.stack((lambda1, lambda2 - s, lambda3))\n",
    "  return(eigenVals)"
   ]
  },
  {
   "cell_type": "code",
   "execution_count": 74,
   "metadata": {},
   "outputs": [],
   "source": [
    "def eigen_direct(g, mask, get_eigenvectors=False):\n",
    "  # g.shape is [h,w,d,3,3]\n",
    "  # returned eigenvalue shape is [3,h,w,d]\n",
    "  # returned eigenvector shape is [3,3,h,w,d]\n",
    "  # This implementation based on\n",
    "  # Hasan KM, Basser PJ, Parker DL, Alexander AL.\n",
    "  # Analytical computation of the eigenvalues and eigenvectors in DT-MRI.\n",
    "  # J Magn Reson 2001; 152: 41-47.\n",
    "\n",
    "  # Precompute some commonly used values\n",
    "  # D = spdMatrix ( to avoid pointer math)\n",
    "  # where spdMatrix is a vector of the upper diagonal portion of the spd matrix \n",
    "  # following index map for reference since\n",
    "  # D is always symmetric:\n",
    "  #    | D00 D01 D02 |   | Dxx Dxy Dxz |   | 0 1 2 |\n",
    "  # D = | D10 D11 D12 | = | Dyx Dyy Dyz | = | 1 3 4 |\n",
    "  #    | D20 D21 D22 |   | Dzx Dzy Dzz |   | 2 4 5 |\n",
    "  # DSq = spdMatrix .* spdMatrix\n",
    "  # We don't need DSq0, DSq3, DSq5, so don't compute them\n",
    "  D0 = g[:,:,:,0,0]\n",
    "  D1 = g[:,:,:,0,1]\n",
    "  D2 = g[:,:,:,0,2]\n",
    "  D3 = g[:,:,:,1,1]\n",
    "  D4 = g[:,:,:,1,2]\n",
    "  D5 = g[:,:,:,2,2]\n",
    "  DSq1 = D1 * D1\n",
    "  DSq2 = D2 * D2\n",
    "  DSq4 = D4 * D4\n",
    "\n",
    "\n",
    "  # Compute the eigenvalues\n",
    "  #\n",
    "  # Compute the 3 principal invariants I1, I2, I3 of D\n",
    "  # I1 = trace(D)\n",
    "  # I2 = (DxxDyy + DxxDzz + DyyDzz) - ((Dxy)^2 + (Dxz)^2 + (Dyz)^2)\n",
    "  # I3 = det(D) = DxxDyyDzz + 2DxyDxzDyz - (Dzz(Dxy)^2 + Dyy(Dxz)^2 +\n",
    "  # Dxx(Dyz)^2)\n",
    "\n",
    "  #RealTensorValueT I1, I2, I3, I1div3;\n",
    "    \n",
    "  I1 = D0 + D3 + D5\n",
    "  I2 = D0*D3 + D0*D5 + D3*D5 - (DSq1 + DSq2 + DSq4)\n",
    "  I3 = D0*D3*D5 + 2*D1*D2*D4 - (D5*DSq1 + D3*DSq2 + D0*DSq4)\n",
    "  I1div3 = I1/3\n",
    "\n",
    "  # Compute rotationally-invariant variables n and s\n",
    "  # n = (I1/3)^2 - I2/3\n",
    "  # s = (I1/3)^3 - I1*I2/6 + I3/2\n",
    "\n",
    "  #RealTensorValueT n, sqrtn, s;\n",
    "  n = I1div3 * I1div3 - I2/3.0\n",
    "  s = I1div3 * I1div3 * I1div3 - I1*I2/6.0 + I3/2.0\n",
    "  sqrtn = torch.sqrt(n)\n",
    "\n",
    "  # Now check for some degenerate cases.\n",
    "  # If these occur, default to the standard eigen analysis.\n",
    "  # These basically enforce that the spdMatrix is in fact\n",
    "  # symmetric positive definite.\n",
    "\n",
    "  degen_8 = False\n",
    "  if (torch.any(I3 < 1e-7)):\n",
    "    print('degenerate case 1')\n",
    "  if (torch.any(D0 < 0)):\n",
    "    print('degenerate case 2')\n",
    "  if (torch.any(D3 < 0)):\n",
    "    print('degenerate case 3')\n",
    "  if (torch.any(D5 < 0)):\n",
    "    print('degenerate case 4')\n",
    "  if (torch.any(D0 * D3 < DSq1)):\n",
    "    print('degenerate case 5')\n",
    "  if (torch.any(D0 * D5 < DSq2)):\n",
    "    print('degenerate case 6')\n",
    "  if (torch.any(D3 * D5 < DSq4)):\n",
    "    print('degenerate case 7')\n",
    "  if (torch.any(n < 1e-7)):\n",
    "    degen_8 = True\n",
    "    print('degenerate case 8')\n",
    "    degen_8_idx = torch.nonzero(n < 1e-7, as_tuple=True)\n",
    "    #print(idx[0][0],idx[1][0],idx[2][0])\n",
    "    #print(g[idx[0][0],idx[1][0],idx[2][0]])\n",
    "    #n[n < 1e-7] = 1e-7\n",
    "\n",
    "\n",
    "  # Compute phi = (acos((s/n) * sqrt(1/n)) / 3)\n",
    "  #RealTensorValueT phi;\n",
    "  phi = torch.acos( (s/n) * 1/sqrtn) / 3.0\n",
    "\n",
    "  # Now compute the eigenvalues\n",
    "  # lambda1 = I1/3 + 2*sqrt(n)*cos(phi)\n",
    "  # lambda2 = I1/3 - 2*sqrt(n)*cos(pi/3 + phi)\n",
    "  # lambda3 = I1/3 - 2*sqrt(n)*cos(pi/3 - phi)\n",
    "  # Due to trace invariance,\n",
    "  # lambda3 also = I1 - lambda1 - lambda2\n",
    "\n",
    "  #RealTensorValueT lambda1, lambda2, lambda3;\n",
    "  lambda1 = I1div3 + 2 * sqrtn * torch.cos(phi)\n",
    "  lambda2 = I1div3 - 2*sqrtn * torch.cos(torch.pi/3.0 + phi)\n",
    "  lambda3 = I1 - lambda1 - lambda2\n",
    "\n",
    "  if degen_8:\n",
    "    lambda1[degen_8_idx] = 1\n",
    "    lambda2[degen_8_idx] = 1\n",
    "    lambda3[degen_8_idx] = 1\n",
    "  \n",
    "  eigenVals = torch.stack((lambda1, lambda2, lambda3))\n",
    "\n",
    "  if get_eigenvectors:\n",
    "    eigenVecs = torch.zeros((3,3,*g.shape[0:3]),device=g.device)\n",
    "    # Compute the eigenvectors\n",
    "    # This for loop could compute all 3 eigenvectors\n",
    "    # instead of just the first two, but it is more\n",
    "    # efficient to obtain the third eigenvector by\n",
    "    # computing the cross product of the first two\n",
    "    # eigenvectors.\n",
    "    for ii in range(2):\n",
    "      # Compute helper variables A, B, C\n",
    "      # Ai = Dxx - eigenVals[i]\n",
    "      # Bi = Dyy - eigenVals[i]\n",
    "      # Ci = Dzz - eigenVals[i]\n",
    "      #RealTensorValueT A, B, C;\n",
    "      A = D0 - eigenVals[ii]\n",
    "      B = D3 - eigenVals[ii]\n",
    "      C = D5 - eigenVals[ii]\n",
    "\n",
    "      # Compute eigenvec components x, y and z\n",
    "      # eix = (DxyDyz - BiDxz)(DxzDyz - CiDxy)\n",
    "      # eiy = (DxzDyz - CiDxy)(DxzDxy - AiDyz)\n",
    "      # eiz = (DxyDyz - BiDxz)(DxzDxy - AiDyz)\n",
    "      # recognizing common components, this becomes\n",
    "      # eix = term1 * term2\n",
    "      # eiy = term2 * term3\n",
    "      # eiz = term1 * term3\n",
    "      #RealTensorValueT term1, term2, term3;\n",
    "      #RealTensorValueT ex, ey, ez;\n",
    "      term1 = D1*D4 - B*D2\n",
    "      term2 = D2*D4 - C*D1\n",
    "      term3 = D2*D1 - A*D4\n",
    "      ex = term1 * term2\n",
    "      ey = term2 * term3\n",
    "      ez = term1 * term3\n",
    "\n",
    "      # Now normalize the vector\n",
    "      # e = [ex ey ez]\n",
    "      # eigenVec = e / sqrt(e'e)\n",
    "      # RealTensorValueT norm, sqrtnorm;\n",
    "      norm = ex * ex + ey * ey + ez * ez\n",
    "      sqrtnorm = torch.sqrt(norm)\n",
    "      eigenVecs[ii,0] = ex / sqrtnorm\n",
    "      eigenVecs[ii,1] = ey / sqrtnorm\n",
    "      eigenVecs[ii,2] = ez / sqrtnorm\n",
    "      if degen_8:\n",
    "        eigenVecs[0,0,degen_8_idx] = 1\n",
    "        eigenVecs[0,1,degen_8_idx] = 0\n",
    "        eigenVecs[0,2,degen_8_idx] = 0\n",
    "        eigenVecs[1,0,degen_8_idx] = 0\n",
    "        eigenVecs[1,1,degen_8_idx] = 1\n",
    "        eigenVecs[1,2,degen_8_idx] = 0\n",
    "        eigenVecs[2,0,degen_8_idx] = 0\n",
    "        eigenVecs[2,1,degen_8_idx] = 0\n",
    "        eigenVecs[2,2,degen_8_idx] = 1\n",
    "\n",
    "    # Finally, compute the third eigenvector\n",
    "    # e[2] = e[0] x e[1]\n",
    "    # TODO better to switch to einsum here?\n",
    "    eigenVecs[2,0] = eigenVecs[0,1] * eigenVecs[1,2] - eigenVecs[0,2] * eigenVecs[1,1]\n",
    "    eigenVecs[2,1] = eigenVecs[0,2] * eigenVecs[1,0] - eigenVecs[0,0] * eigenVecs[1,2]\n",
    "    eigenVecs[2,2] = eigenVecs[0,0] * eigenVecs[1,1] - eigenVecs[0,1] * eigenVecs[1,0]\n",
    "  else:\n",
    "    eigenVecs = None\n",
    "  return(eigenVals, eigenVecs)\n"
   ]
  },
  {
   "cell_type": "code",
   "execution_count": 12,
   "metadata": {},
   "outputs": [
    {
     "name": "stdout",
     "output_type": "stream",
     "text": [
      "CPU times: user 14.7 s, sys: 720 ms, total: 15.4 s\n",
      "Wall time: 15.6 s\n"
     ]
    },
    {
     "name": "stderr",
     "output_type": "stream",
     "text": [
      "torch.symeig is deprecated in favor of torch.linalg.eigh and will be removed in a future PyTorch release.\n",
      "The default behavior has changed from using the upper triangular portion of the matrix by default to using the lower triangular portion.\n",
      "L, _ = torch.symeig(A, upper=upper)\n",
      "should be replaced with\n",
      "L = torch.linalg.eigvalsh(A, UPLO='U' if upper else 'L')\n",
      "and\n",
      "L, V = torch.symeig(A, eigenvectors=True)\n",
      "should be replaced with\n",
      "L, V = torch.linalg.eigh(A, UPLO='U' if upper else 'L') (Triggered internally at  ../aten/src/ATen/native/BatchLinearAlgebra.cpp:2497.)\n"
     ]
    }
   ],
   "source": [
    "%%time\n",
    "#a = torch.rand(5000, 3, 3,dtype=torch.double)\n",
    "#a = 0.5 * (a + a.transpose(1, 2))\n",
    "a = torch.rand(145,174,145, 3, 3,dtype=torch.double)\n",
    "a = 0.5 * (a + a.transpose(3, 4))\n",
    "w, wv = torch.symeig(a,True)  # fast (~0.0006s)\n"
   ]
  },
  {
   "cell_type": "code",
   "execution_count": 13,
   "metadata": {},
   "outputs": [
    {
     "ename": "RuntimeError",
     "evalue": "number of dims don't match in permute",
     "output_type": "error",
     "traceback": [
      "\u001b[0;31m---------------------------------------------------------------------------\u001b[0m",
      "\u001b[0;31mRuntimeError\u001b[0m                              Traceback (most recent call last)",
      "\u001b[0;32m<timed exec>\u001b[0m in \u001b[0;36m<module>\u001b[0;34m\u001b[0m\n",
      "\u001b[0;31mRuntimeError\u001b[0m: number of dims don't match in permute"
     ]
    }
   ],
   "source": [
    "%%time\n",
    "t, tv = vlinalg.vSymEig(a.permute((1,2,0)).reshape((1,9,-1,1,1)),True)\n",
    "e = t.reshape((3,-1)).permute((1,0))\n",
    "ev = tv.reshape((3,3,-1)).permute((2,0,1))"
   ]
  },
  {
   "cell_type": "code",
   "execution_count": 14,
   "metadata": {},
   "outputs": [
    {
     "ename": "NameError",
     "evalue": "name 'e' is not defined",
     "output_type": "error",
     "traceback": [
      "\u001b[0;31m---------------------------------------------------------------------------\u001b[0m",
      "\u001b[0;31mNameError\u001b[0m                                 Traceback (most recent call last)",
      "\u001b[0;32m<ipython-input-14-12f144ffafdc>\u001b[0m in \u001b[0;36m<module>\u001b[0;34m\u001b[0m\n\u001b[0;32m----> 1\u001b[0;31m \u001b[0mwediff\u001b[0m \u001b[0;34m=\u001b[0m \u001b[0mtorch\u001b[0m\u001b[0;34m.\u001b[0m\u001b[0mabs\u001b[0m\u001b[0;34m(\u001b[0m\u001b[0mw\u001b[0m\u001b[0;34m-\u001b[0m\u001b[0me\u001b[0m\u001b[0;34m)\u001b[0m\u001b[0;34m\u001b[0m\u001b[0;34m\u001b[0m\u001b[0m\n\u001b[0m\u001b[1;32m      2\u001b[0m \u001b[0mprint\u001b[0m\u001b[0;34m(\u001b[0m\u001b[0mtorch\u001b[0m\u001b[0;34m.\u001b[0m\u001b[0mmin\u001b[0m\u001b[0;34m(\u001b[0m\u001b[0mw\u001b[0m\u001b[0;34m)\u001b[0m\u001b[0;34m,\u001b[0m \u001b[0mtorch\u001b[0m\u001b[0;34m.\u001b[0m\u001b[0mmin\u001b[0m\u001b[0;34m(\u001b[0m\u001b[0me\u001b[0m\u001b[0;34m)\u001b[0m\u001b[0;34m)\u001b[0m\u001b[0;34m\u001b[0m\u001b[0;34m\u001b[0m\u001b[0m\n\u001b[1;32m      3\u001b[0m \u001b[0mprint\u001b[0m\u001b[0;34m(\u001b[0m\u001b[0mtorch\u001b[0m\u001b[0;34m.\u001b[0m\u001b[0mmin\u001b[0m\u001b[0;34m(\u001b[0m\u001b[0mwediff\u001b[0m\u001b[0;34m)\u001b[0m\u001b[0;34m,\u001b[0m \u001b[0mtorch\u001b[0m\u001b[0;34m.\u001b[0m\u001b[0mmax\u001b[0m\u001b[0;34m(\u001b[0m\u001b[0mwediff\u001b[0m\u001b[0;34m)\u001b[0m\u001b[0;34m)\u001b[0m\u001b[0;34m\u001b[0m\u001b[0;34m\u001b[0m\u001b[0m\n\u001b[1;32m      4\u001b[0m \u001b[0mawv\u001b[0m \u001b[0;34m=\u001b[0m \u001b[0mtorch\u001b[0m\u001b[0;34m.\u001b[0m\u001b[0meinsum\u001b[0m\u001b[0;34m(\u001b[0m\u001b[0;34m'...ij,...jk->...ik'\u001b[0m\u001b[0;34m,\u001b[0m\u001b[0ma\u001b[0m\u001b[0;34m,\u001b[0m\u001b[0mwv\u001b[0m\u001b[0;34m)\u001b[0m\u001b[0;34m\u001b[0m\u001b[0;34m\u001b[0m\u001b[0m\n\u001b[1;32m      5\u001b[0m \u001b[0mwwv\u001b[0m \u001b[0;34m=\u001b[0m \u001b[0mtorch\u001b[0m\u001b[0;34m.\u001b[0m\u001b[0meinsum\u001b[0m\u001b[0;34m(\u001b[0m\u001b[0;34m'...i,...ji->...ji'\u001b[0m\u001b[0;34m,\u001b[0m\u001b[0mw\u001b[0m\u001b[0;34m,\u001b[0m\u001b[0mwv\u001b[0m\u001b[0;34m)\u001b[0m\u001b[0;34m\u001b[0m\u001b[0;34m\u001b[0m\u001b[0m\n",
      "\u001b[0;31mNameError\u001b[0m: name 'e' is not defined"
     ]
    }
   ],
   "source": [
    "wediff = torch.abs(w-e)\n",
    "print(torch.min(w), torch.min(e))\n",
    "print(torch.min(wediff), torch.max(wediff))\n",
    "awv = torch.einsum('...ij,...jk->...ik',a,wv)\n",
    "wwv = torch.einsum('...i,...ji->...ji',w,wv)\n",
    "print(torch.max(torch.abs(awv-wwv)))\n",
    "aev = torch.einsum('...ij,...jk->...ik',a,ev.double())\n",
    "eev = torch.einsum('...i,...ji->...ji',e,ev)\n",
    "print(torch.max(torch.abs(aev-eev)))\n"
   ]
  },
  {
   "cell_type": "code",
   "execution_count": 140,
   "metadata": {},
   "outputs": [
    {
     "name": "stdout",
     "output_type": "stream",
     "text": [
      "torch.Size([5000, 3, 3]) torch.Size([0])\n"
     ]
    }
   ],
   "source": [
    "print(a.shape,wv.shape)"
   ]
  },
  {
   "cell_type": "code",
   "execution_count": 123,
   "metadata": {},
   "outputs": [
    {
     "name": "stdout",
     "output_type": "stream",
     "text": [
      "CPU times: user 5.71 ms, sys: 205 µs, total: 5.91 ms\n",
      "Wall time: 4.31 ms\n"
     ]
    }
   ],
   "source": [
    "%%time\n",
    "se = sym_eigenvals(a.reshape((1,1,-1,3,3))).reshape((-1,3))"
   ]
  },
  {
   "cell_type": "code",
   "execution_count": 124,
   "metadata": {},
   "outputs": [
    {
     "name": "stdout",
     "output_type": "stream",
     "text": [
      "tensor(-1.0691, dtype=torch.float64) tensor(-1.0691, dtype=torch.float64)\n",
      "tensor(0., dtype=torch.float64) tensor(3.1061, dtype=torch.float64)\n",
      "tensor(2.3965e-08, dtype=torch.float64) tensor(3.1061, dtype=torch.float64)\n"
     ]
    }
   ],
   "source": [
    "wsediff = torch.abs(w-se)\n",
    "print(torch.min(w), torch.min(se))\n",
    "print(torch.min(wsediff), torch.max(wsediff))\n",
    "esediff = torch.abs(e-se)\n",
    "print(torch.min(esediff), torch.max(esediff))\n"
   ]
  },
  {
   "cell_type": "code",
   "execution_count": 199,
   "metadata": {
    "scrolled": true
   },
   "outputs": [
    {
     "name": "stdout",
     "output_type": "stream",
     "text": [
      "degenerate case 1\n",
      "degenerate case 5\n",
      "degenerate case 6\n",
      "degenerate case 7\n",
      "CPU times: user 28.5 ms, sys: 4.61 ms, total: 33.1 ms\n",
      "Wall time: 8.3 ms\n"
     ]
    }
   ],
   "source": [
    "%%time\n",
    "t, tv = eigen_direct(a.reshape((1,1,-1,3,3)),None,True)\n",
    "ed = t.reshape((-1,3))\n",
    "ev = tv.reshape((-1,3,3))"
   ]
  },
  {
   "cell_type": "code",
   "execution_count": 200,
   "metadata": {},
   "outputs": [
    {
     "name": "stdout",
     "output_type": "stream",
     "text": [
      "tensor(-1.0677, dtype=torch.float64) tensor(-1.0677, dtype=torch.float64)\n",
      "tensor(6.0333e-06, dtype=torch.float64) tensor(3.0615, dtype=torch.float64)\n",
      "tensor(6.0341e-06, dtype=torch.float64) tensor(3.0615, dtype=torch.float64)\n",
      "tensor(2.2842, dtype=torch.float64)\n"
     ]
    }
   ],
   "source": [
    "weddiff = torch.abs(w-ed)\n",
    "print(torch.min(w), torch.min(ed))\n",
    "print(torch.min(weddiff), torch.max(weddiff))\n",
    "edediff = torch.abs(ed-e)\n",
    "print(torch.min(edediff), torch.max(edediff))\n",
    "aev = torch.einsum('...ij,...kj->...ki',a,ev.double())\n",
    "edev = torch.einsum('...i,...ij->...ji',ed,ev)\n",
    "print(torch.max(torch.abs(aev-edev)))"
   ]
  },
  {
   "cell_type": "code",
   "execution_count": 201,
   "metadata": {},
   "outputs": [
    {
     "name": "stdout",
     "output_type": "stream",
     "text": [
      "tensor([1.2166, 1.3087, 0.9797], dtype=torch.float64)\n",
      "torch.Size([3, 3]) torch.Size([3, 3])\n",
      "tensor([[1.2166, 1.1558, 1.3276],\n",
      "        [1.3087, 1.1808, 1.3656],\n",
      "        [0.9797, 0.9417, 0.9597]], dtype=torch.float64)\n",
      "tensor([0.6093, 0.7432, 0.4659])\n",
      "tensor([1.0776, 1.3145, 0.8240])\n",
      "tensor([3.1537, 2.9598, 3.3249], dtype=torch.float64)\n"
     ]
    }
   ],
   "source": [
    "print(torch.matmul(a[0],ev[0,0,:].double()))\n",
    "print(a[0].shape, ev[0].shape)\n",
    "print(torch.einsum('...ij,...kj->...ik',a,ev.double())[0])\n",
    "print(ev[0,0,:])\n",
    "print(ed[0,1] * ev[0,0,:])\n",
    "print(torch.einsum('...i,...ji->...j',ed,ev.double())[0])"
   ]
  },
  {
   "cell_type": "code",
   "execution_count": 204,
   "metadata": {},
   "outputs": [
    {
     "name": "stdout",
     "output_type": "stream",
     "text": [
      "tensor([2.1648, 2.0386, 1.4436], dtype=torch.float64)\n",
      "tensor([1.2125, 1.4790, 0.9272])\n",
      "tensor([1.0723, 1.3081, 0.8200])\n",
      "tensor([1.2795, 1.5608, 0.9784])\n"
     ]
    }
   ],
   "source": [
    "aev = torch.matmul(a[0],ev[0,:,0].double())\n",
    "print(aev / ev[0,:,0])\n",
    "print(1.99*ev[0,0,:])\n",
    "print(1.76*ev[0,0,:])\n",
    "print(2.10*ev[0,0,:])"
   ]
  },
  {
   "cell_type": "code",
   "execution_count": 17,
   "metadata": {},
   "outputs": [
    {
     "name": "stdout",
     "output_type": "stream",
     "text": [
      "CPU times: user 1.62 s, sys: 263 ms, total: 1.89 s\n",
      "Wall time: 1.07 s\n"
     ]
    }
   ],
   "source": [
    "%%time\n",
    "s3, s3v = Sym3Eig.apply(a.reshape((-1,3,3)))"
   ]
  },
  {
   "cell_type": "code",
   "execution_count": 18,
   "metadata": {},
   "outputs": [
    {
     "ename": "RuntimeError",
     "evalue": "The size of tensor a (145) must match the size of tensor b (3658350) at non-singleton dimension 2",
     "output_type": "error",
     "traceback": [
      "\u001b[0;31m---------------------------------------------------------------------------\u001b[0m",
      "\u001b[0;31mRuntimeError\u001b[0m                              Traceback (most recent call last)",
      "\u001b[0;32m<ipython-input-18-4ee975a36845>\u001b[0m in \u001b[0;36m<module>\u001b[0;34m\u001b[0m\n\u001b[0;32m----> 1\u001b[0;31m \u001b[0mws3diff\u001b[0m \u001b[0;34m=\u001b[0m \u001b[0mtorch\u001b[0m\u001b[0;34m.\u001b[0m\u001b[0mabs\u001b[0m\u001b[0;34m(\u001b[0m\u001b[0mtorch\u001b[0m\u001b[0;34m.\u001b[0m\u001b[0msort\u001b[0m\u001b[0;34m(\u001b[0m\u001b[0mw\u001b[0m\u001b[0;34m)\u001b[0m\u001b[0;34m[\u001b[0m\u001b[0;36m0\u001b[0m\u001b[0;34m]\u001b[0m\u001b[0;34m-\u001b[0m\u001b[0mtorch\u001b[0m\u001b[0;34m.\u001b[0m\u001b[0msort\u001b[0m\u001b[0;34m(\u001b[0m\u001b[0ms3\u001b[0m\u001b[0;34m)\u001b[0m\u001b[0;34m[\u001b[0m\u001b[0;36m0\u001b[0m\u001b[0;34m]\u001b[0m\u001b[0;34m)\u001b[0m\u001b[0;34m\u001b[0m\u001b[0;34m\u001b[0m\u001b[0m\n\u001b[0m\u001b[1;32m      2\u001b[0m \u001b[0mprint\u001b[0m\u001b[0;34m(\u001b[0m\u001b[0mtorch\u001b[0m\u001b[0;34m.\u001b[0m\u001b[0mmin\u001b[0m\u001b[0;34m(\u001b[0m\u001b[0mw\u001b[0m\u001b[0;34m)\u001b[0m\u001b[0;34m,\u001b[0m \u001b[0mtorch\u001b[0m\u001b[0;34m.\u001b[0m\u001b[0mmin\u001b[0m\u001b[0;34m(\u001b[0m\u001b[0ms3\u001b[0m\u001b[0;34m)\u001b[0m\u001b[0;34m)\u001b[0m\u001b[0;34m\u001b[0m\u001b[0;34m\u001b[0m\u001b[0m\n\u001b[1;32m      3\u001b[0m \u001b[0mprint\u001b[0m\u001b[0;34m(\u001b[0m\u001b[0mtorch\u001b[0m\u001b[0;34m.\u001b[0m\u001b[0mmin\u001b[0m\u001b[0;34m(\u001b[0m\u001b[0mws3diff\u001b[0m\u001b[0;34m)\u001b[0m\u001b[0;34m,\u001b[0m \u001b[0mtorch\u001b[0m\u001b[0;34m.\u001b[0m\u001b[0mmax\u001b[0m\u001b[0;34m(\u001b[0m\u001b[0mws3diff\u001b[0m\u001b[0;34m)\u001b[0m\u001b[0;34m)\u001b[0m\u001b[0;34m\u001b[0m\u001b[0;34m\u001b[0m\u001b[0m\n\u001b[1;32m      4\u001b[0m \u001b[0mes3diff\u001b[0m \u001b[0;34m=\u001b[0m \u001b[0mtorch\u001b[0m\u001b[0;34m.\u001b[0m\u001b[0mabs\u001b[0m\u001b[0;34m(\u001b[0m\u001b[0me\u001b[0m\u001b[0;34m-\u001b[0m\u001b[0ms3\u001b[0m\u001b[0;34m)\u001b[0m\u001b[0;34m\u001b[0m\u001b[0;34m\u001b[0m\u001b[0m\n\u001b[1;32m      5\u001b[0m \u001b[0mprint\u001b[0m\u001b[0;34m(\u001b[0m\u001b[0mtorch\u001b[0m\u001b[0;34m.\u001b[0m\u001b[0mmin\u001b[0m\u001b[0;34m(\u001b[0m\u001b[0mes3diff\u001b[0m\u001b[0;34m)\u001b[0m\u001b[0;34m,\u001b[0m \u001b[0mtorch\u001b[0m\u001b[0;34m.\u001b[0m\u001b[0mmax\u001b[0m\u001b[0;34m(\u001b[0m\u001b[0mes3diff\u001b[0m\u001b[0;34m)\u001b[0m\u001b[0;34m)\u001b[0m\u001b[0;34m\u001b[0m\u001b[0;34m\u001b[0m\u001b[0m\n",
      "\u001b[0;31mRuntimeError\u001b[0m: The size of tensor a (145) must match the size of tensor b (3658350) at non-singleton dimension 2"
     ]
    }
   ],
   "source": [
    "ws3diff = torch.abs(torch.sort(w)[0]-torch.sort(s3)[0])\n",
    "print(torch.min(w), torch.min(s3))\n",
    "print(torch.min(ws3diff), torch.max(ws3diff))\n",
    "es3diff = torch.abs(e-s3)\n",
    "print(torch.min(es3diff), torch.max(es3diff))\n",
    "as3v = torch.einsum('...ij,...jk->...ik',a,s3v.double())\n",
    "s3s3v = torch.einsum('...i,...ji->...ji',s3,s3v)\n",
    "print(torch.max(torch.abs(as3v-s3s3v)))\n"
   ]
  },
  {
   "cell_type": "code",
   "execution_count": 110,
   "metadata": {},
   "outputs": [
    {
     "name": "stdout",
     "output_type": "stream",
     "text": [
      "CPU times: user 1.06 s, sys: 7.75 s, total: 8.81 s\n",
      "Wall time: 8.82 s\n"
     ]
    }
   ],
   "source": [
    "%%time\n",
    "a = a.cuda()\n",
    "w, _ = torch.symeig(a)  # slow (~0.9s)"
   ]
  },
  {
   "cell_type": "code",
   "execution_count": 111,
   "metadata": {},
   "outputs": [
    {
     "name": "stdout",
     "output_type": "stream",
     "text": [
      "CPU times: user 4.7 ms, sys: 106 µs, total: 4.81 ms\n",
      "Wall time: 3.59 ms\n"
     ]
    }
   ],
   "source": [
    "%%time\n",
    "e = vlinalg.vSymEig(a.permute((1,2,0)).reshape(1,9,-1,1,1))[0].reshape((3,-1)).permute((1,0))"
   ]
  },
  {
   "cell_type": "code",
   "execution_count": 112,
   "metadata": {},
   "outputs": [
    {
     "name": "stdout",
     "output_type": "stream",
     "text": [
      "tensor(4.4409e-14, device='cuda:0', dtype=torch.float64) tensor(1.1909e-07, device='cuda:0', dtype=torch.float64)\n"
     ]
    }
   ],
   "source": [
    "wediff = torch.abs(w-e)\n",
    "print(torch.min(wediff), torch.max(wediff))"
   ]
  },
  {
   "cell_type": "code",
   "execution_count": 113,
   "metadata": {},
   "outputs": [
    {
     "name": "stdout",
     "output_type": "stream",
     "text": [
      "degenerate case 1\n",
      "degenerate case 5\n",
      "degenerate case 6\n",
      "degenerate case 7\n",
      "CPU times: user 4.46 ms, sys: 0 ns, total: 4.46 ms\n",
      "Wall time: 3.83 ms\n"
     ]
    }
   ],
   "source": [
    "%%time\n",
    "ed = eigen_direct(a.reshape((1,1,-1,3,3)),False)[0].reshape((-1,3))"
   ]
  },
  {
   "cell_type": "code",
   "execution_count": 116,
   "metadata": {},
   "outputs": [
    {
     "name": "stdout",
     "output_type": "stream",
     "text": [
      "CPU times: user 2.33 ms, sys: 288 µs, total: 2.61 ms\n",
      "Wall time: 1.75 ms\n"
     ]
    }
   ],
   "source": [
    "%%time\n",
    "s3, _ = Sym3Eig.apply(a)"
   ]
  },
  {
   "cell_type": "code",
   "execution_count": 117,
   "metadata": {},
   "outputs": [
    {
     "name": "stdout",
     "output_type": "stream",
     "text": [
      "tensor(0., device='cuda:0', dtype=torch.float64) tensor(2.9406, device='cuda:0', dtype=torch.float64)\n",
      "tensor(4.5131e-14, device='cuda:0', dtype=torch.float64) tensor(2.9406, device='cuda:0', dtype=torch.float64)\n"
     ]
    }
   ],
   "source": [
    "ws3diff = torch.abs(w-s3)\n",
    "print(torch.min(ws3diff), torch.max(ws3diff))\n",
    "es3diff = torch.abs(e-s3)\n",
    "print(torch.min(es3diff), torch.max(es3diff))"
   ]
  },
  {
   "cell_type": "code",
   "execution_count": 213,
   "metadata": {},
   "outputs": [
    {
     "name": "stdout",
     "output_type": "stream",
     "text": [
      "torch.Size([5000, 3, 3])\n"
     ]
    }
   ],
   "source": [
    "print(a.shape)"
   ]
  },
  {
   "cell_type": "code",
   "execution_count": null,
   "metadata": {},
   "outputs": [],
   "source": []
  }
 ],
 "metadata": {
  "kernelspec": {
   "display_name": "nsfcrcns",
   "language": "python",
   "name": "nsfcrcns"
  },
  "language_info": {
   "codemirror_mode": {
    "name": "ipython",
    "version": 3
   },
   "file_extension": ".py",
   "mimetype": "text/x-python",
   "name": "python",
   "nbconvert_exporter": "python",
   "pygments_lexer": "ipython3",
   "version": "3.6.13"
  }
 },
 "nbformat": 4,
 "nbformat_minor": 4
}
