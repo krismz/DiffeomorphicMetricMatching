{
 "cells": [
  {
   "cell_type": "code",
   "execution_count": 2,
   "metadata": {},
   "outputs": [],
   "source": [
    "%matplotlib notebook\n",
    "#import matplotlib.pyplot as plt\n",
    "# Note! ITK interacts weirdly here.  from lazy_imports import itk does not work.\n",
    "# Additionally, import itk must occur before lazy_imports for itkwidgets.view (ie itkview) to work.\n",
    "import itk\n",
    "import vtk\n",
    "#from lazy_imports import itk\n",
    "from lazy_imports import np\n",
    "from lazy_imports import plt\n",
    "from lazy_imports import sitk\n",
    "from lazy_imports import loadmat, savemat\n",
    "from lazy_imports import sio\n",
    "from lazy_imports import itkwidgets\n",
    "from lazy_imports import itkview\n",
    "from lazy_imports import interactive\n",
    "from lazy_imports import ipywidgets\n",
    "from lazy_imports import pv\n",
    "from lazy_imports import torch\n",
    "plt.rcParams[\"figure.figsize\"] = (6, 6) # (w, h)"
   ]
  },
  {
   "cell_type": "code",
   "execution_count": 3,
   "metadata": {},
   "outputs": [],
   "source": [
    "from disp.vis import show_2d, show_2d_tensors\n",
    "from disp.vis import vis_tensors, vis_path\n",
    "from disp.vis import view_3d_tensors, tensors_to_mesh, view_3d_paths, path_to_tube"
   ]
  },
  {
   "cell_type": "code",
   "execution_count": 4,
   "metadata": {},
   "outputs": [],
   "source": [
    "from data.io import readRaw, ReadScalars, ReadTensors, WriteTensorNPArray, WriteScalarNPArray, readPath3D\n",
    "from data.convert import GetNPArrayFromSITK, GetSITKImageFromNP\n",
    "import algo.metricModSolver as mms\n",
    "import algo.geodesic as geo\n",
    "import algo.euler as euler\n",
    "import util.tensors as tensors\n",
    "import util.diffeo as diffeo\n",
    "import pickle\n",
    "import math\n",
    "import ipywebrtc\n",
    "from IPython.display import display\n",
    "import time"
   ]
  },
  {
   "cell_type": "code",
   "execution_count": 5,
   "metadata": {},
   "outputs": [],
   "source": [
    "from dipy.io.image import load_nifti, save_nifti\n",
    "from dipy.align.imaffine import AffineMap"
   ]
  },
  {
   "cell_type": "code",
   "execution_count": 6,
   "metadata": {},
   "outputs": [],
   "source": [
    "# from colorbrewer2, sequential 9 values pasted together YlGnBu (reverse order) then YlOrRd\n",
    "# EXCEPT THESE ARE NOT PRINT FRIENDLY OR PHOTOCOPY SAFE!!!\n",
    "# But skip the yellows in the middle -- too light\n",
    "geo_colors = ['tab:red', 'tab:pink', 'tab:orange', 'tab:blue', 'tab:purple', 'tab:green', 'tab:cyan']\n",
    "eul_colors = ['k', 'tab:gray', 'tab:brown', 'm', 'y', 'tab:olive', 'maroon']\n",
    "#interp_colors = ['#081d58', '#253494', '#225ea8', '#1d91c0', '#41b6c4', '#7fcdbb', '#c7e9b4', '#edf8b1', '#ffffd9',\n",
    "#                 '#ffffcc', '#ffeda0', '#fed976', '#feb24c', '#fd8d3c', '#fc4e2a', '#e31a1c', '#bd0026', '#800026']\n",
    "interp_colors = ['#081d58', '#253494', '#225ea8', '#1d91c0', '#41b6c4', '#7fcdbb', '#c7e9b4',\n",
    "                 '#fed976', '#feb24c', '#fd8d3c', '#fc4e2a', '#e31a1c', '#bd0026', '#800026']\n",
    "\n",
    "blue=interp_colors[3]\n",
    "ltblue=interp_colors[6]\n",
    "yellow=interp_colors[7]\n",
    "orange=interp_colors[9]\n",
    "red=interp_colors[12]\n",
    "\n",
    "# 3 classes are safest, but fewer options.\n",
    "# Stitch together some options from sequential 3 values YlGnBu (reverse order), YlOrBr and \n",
    "#interp_colors = ['#2c7fb8', '#7fcdbb', '#edf8b1', '#fff7bc', '#fec44f', '#d95f0e']\n",
    "\n",
    "# Compromise, use 5 class YlGnBu (reverse order) and YlOrBr again leaving out yellow\n",
    "interp_colors = ['#253494', '#2c7fb8', '#41b6c4', '#a1dab4', '#fed98e', '#fe9929', '#d95f0e', '#993404']\n",
    "# leave out #ffffcc and #ffffd4\n",
    "\n",
    "blue=interp_colors[1]\n",
    "ltblue=interp_colors[2]\n",
    "yellow=interp_colors[4]\n",
    "orange=interp_colors[5]\n",
    "red=interp_colors[7]\n",
    "\n",
    "# Same as above but with a dark gray added in the front\n",
    "interp_colors = ['#777777','#253494', '#2c7fb8', '#41b6c4', '#a1dab4', '#fed98e', '#fe9929', '#d95f0e', '#993404']\n",
    "\n",
    "blue=interp_colors[2]\n",
    "ltblue=interp_colors[3]\n",
    "yellow=interp_colors[5]\n",
    "orange=interp_colors[6]\n",
    "red=interp_colors[8]\n",
    "\n",
    "# matches defaults\n",
    "XSMALL_SIZE = 12\n",
    "SMALL_SIZE = 15\n",
    "MEDIUM_SIZE = 18\n",
    "BIGGER_SIZE = 20\n",
    "# bigger for papers\n",
    "XSMALL_SIZE = 12\n",
    "SMALL_SIZE = 17\n",
    "MEDIUM_SIZE = 23\n",
    "BIGGER_SIZE = 25\n",
    "\n",
    "plt.rcParams[\"figure.figsize\"] = (4, 4) # (w, h)\n",
    "plt.rc('font', size=SMALL_SIZE)          # controls default text sizes\n",
    "plt.rc('axes', titlesize=SMALL_SIZE)     # fontsize of the axes title\n",
    "plt.rc('axes', labelsize=MEDIUM_SIZE)    # fontsize of the x and y labels\n",
    "plt.rc('xtick', labelsize=SMALL_SIZE)    # fontsize of the tick labels\n",
    "plt.rc('ytick', labelsize=SMALL_SIZE)    # fontsize of the tick labels\n",
    "plt.rc('legend', fontsize=SMALL_SIZE)    # legend fontsize\n",
    "plt.rc('figure', titlesize=BIGGER_SIZE)  # fontsize of the figure title\n",
    "\n"
   ]
  },
  {
   "cell_type": "markdown",
   "metadata": {},
   "source": [
    "# Look at DTI-TK Results"
   ]
  },
  {
   "cell_type": "code",
   "execution_count": 7,
   "metadata": {},
   "outputs": [],
   "source": [
    "def convert_to_itk(tfm, invert=False):\n",
    "  #print('converting transform to ITK format', tfm_prefix + '.txt')\n",
    "  print('converting transform to ITK format')\n",
    "  #tfm = np.loadtxt(tfm_prefix + '.txt')\n",
    "  stfm = sitk.AffineTransform(3)\n",
    "  stfm.SetMatrix(tuple(tfm[0:3,0:3].flatten()))\n",
    "  stfm.SetTranslation(tuple(tfm[:3,3]))\n",
    "  #sitk.WriteTransform(stfm, tfm_prefix + '_itk.txt')\n",
    "  if invert:\n",
    "    return(stfm.GetInverse())\n",
    "  else:\n",
    "    return(stfm)    \n",
    "                      \n",
    "def transform_tensors(tens, tfm, stfm):\n",
    "  print('tens shape:',tens.shape)\n",
    "  #tfm = np.loadtxt(tfm_prefix+'.txt')\n",
    "  #stfm = sitk.ReadTransform(tfm_prefix+'_itk.txt')\n",
    "\n",
    "  xsz = tens.shape[0]\n",
    "  ysz = tens.shape[1]\n",
    "  zsz = tens.shape[2]\n",
    "\n",
    "  resamp_tens = np.zeros_like(tens)\n",
    "  for cc in range(6):\n",
    "    resamp_tens[:,:,:,cc] = GetNPArrayFromSITK(sitk.Resample(GetSITKImageFromNP(tens[:,:,:,cc].astype(np.float32)), stfm))\n",
    "  \n",
    "  tens_full = np.zeros((xsz,ysz,zsz,3,3))\n",
    "  tens_full[:,:,:,0,0] = resamp_tens[:,:,:,0]\n",
    "  tens_full[:,:,:,0,1] = resamp_tens[:,:,:,1]\n",
    "  tens_full[:,:,:,0,2] = resamp_tens[:,:,:,2]\n",
    "  tens_full[:,:,:,1,0] = tens_full[:,:,:,0,1]\n",
    "  tens_full[:,:,:,2,0] = tens_full[:,:,:,0,2]\n",
    "  tens_full[:,:,:,1,1] = resamp_tens[:,:,:,3]\n",
    "  tens_full[:,:,:,1,2] = resamp_tens[:,:,:,4]\n",
    "  tens_full[:,:,:,2,1] = tens_full[:,:,:,1,2]\n",
    "  tens_full[:,:,:,2,2] = resamp_tens[:,:,:,5]\n",
    "\n",
    "  \n",
    "  out_tens = np.einsum('...ij,...jk,...lk->...il',tfm[:3,:3],tens_full,tfm[:3,:3])\n",
    "\n",
    "  out_tens_tri = np.zeros((xsz,ysz,zsz,6))\n",
    "  out_tens_tri[:,:,:,0] = out_tens[:,:,:,0,0]\n",
    "  out_tens_tri[:,:,:,1] = out_tens[:,:,:,0,1]\n",
    "  out_tens_tri[:,:,:,2] = out_tens[:,:,:,0,2]\n",
    "  out_tens_tri[:,:,:,3] = out_tens[:,:,:,1,1]\n",
    "  out_tens_tri[:,:,:,4] = out_tens[:,:,:,1,2]\n",
    "  out_tens_tri[:,:,:,5] = out_tens[:,:,:,2,2]\n",
    "\n",
    "  print('out tens tri shape:',out_tens_tri.shape)\n",
    "  return(out_tens_tri)\n",
    "\n",
    "\n",
    "#convert_to_itk(tfm_pref)\n",
    "#out_dti = transform_tensors(in_dti, tfm_pref)"
   ]
  },
  {
   "cell_type": "code",
   "execution_count": 16,
   "metadata": {},
   "outputs": [
    {
     "name": "stdout",
     "output_type": "stream",
     "text": [
      "converting transform to ITK format\n",
      "tens shape: (256, 256, 256, 6)\n",
      "out tens tri shape: (256, 256, 256, 6)\n",
      "converting transform to ITK format\n",
      "tens shape: (145, 174, 145, 6)\n",
      "out tens tri shape: (145, 174, 145, 6)\n"
     ]
    }
   ],
   "source": [
    "outroot = '/usr/sci/projects/HCP/Kris/NSFCRCNS/TestResults/UKF_experiments/BallResults/'\n",
    "\n",
    "identity = np.eye(4)\n",
    "\n",
    "#atlas_tens, atlas_aff = load_nifti(f\"{outroot}DTITKReg/104416_resampled_aff_reg_to_108222_diffeo.nii.gz\")\n",
    "atlas_tens, atlas_aff = load_nifti(f\"{outroot}DTITKReg/104416_padded_aff_reg_to_108222_diffeo.nii.gz\")\n",
    "atlas_tens, atlas_aff = load_nifti(f\"{outroot}DTITKReg/mean_diffeomorphic_initial6.nii.gz\")\n",
    "atlas_tens = atlas_tens.squeeze()\n",
    "#aff_map = AffineMap(identity, atlas_tens.shape, atlas_aff)\n",
    "#atlas_tens_tfm = aff_map.transform(atlas_tens)\n",
    "atlas_aff_itk = convert_to_itk(atlas_aff,True)\n",
    "atlas_tens_tfm = transform_tensors(atlas_tens, atlas_aff, atlas_aff_itk)\n",
    "\n",
    "#atlas_mask = ReadScalars(f\"{outroot}DTITKReg/108222_resampled_tr_mask.nii.gz\")\n",
    "atlas_mask = ReadScalars(f\"{outroot}DTITKReg/108222_padded_tr_mask.nii.gz\")\n",
    "atlas_mask = ReadScalars(f\"{outroot}DTITKReg/mean_affine3_tr_mask.nii.gz\")\n",
    "atlas_mask, aff = load_nifti(f\"{outroot}DTITKReg/mean_affine3_tr_mask.nii.gz\")\n",
    "atlas_mask = atlas_mask.squeeze()\n",
    "\n",
    "#atlas_tens_orig_dims, atlas_aff = load_nifti(f\"{outroot}DTITKReg/104416_resampled_aff_reg_to_108222_diffeo_orig_dims.nii.gz\")\n",
    "atlas_tens_orig_dims, atlas_aff = load_nifti(f\"{outroot}DTITKReg/104416_padded_aff_reg_to_108222_diffeo_orig_dims.nii.gz\")\n",
    "atlas_tens_orig_dims, atlas_aff = load_nifti(f\"{outroot}DTITKReg/mean_diffeomorphic_initial6_orig_dims.nii.gz\")\n",
    "atlas_tens_orig_dims = atlas_tens_orig_dims.squeeze()\n",
    "#aff_map = AffineMap(identity, atlas_tens_orig_dims.shape, atlas_aff)\n",
    "#atlas_tens_orig_dims_tfm = aff_map.transform(atlas_tens_orig_dims)\n",
    "atlas_aff_itk = convert_to_itk(atlas_aff,True)\n",
    "atlas_tens_orig_dims_tfm = transform_tensors(atlas_tens_orig_dims, atlas_aff, atlas_aff_itk)\n"
   ]
  },
  {
   "cell_type": "code",
   "execution_count": 22,
   "metadata": {},
   "outputs": [
    {
     "name": "stdout",
     "output_type": "stream",
     "text": [
      "[[1. 0. 0. 0.]\n",
      " [0. 1. 0. 0.]\n",
      " [0. 0. 1. 0.]\n",
      " [0. 0. 0. 1.]] itk::simple::Transform\n",
      " AffineTransform (0x55c5a64b9960)\n",
      "   RTTI typeinfo:   itk::AffineTransform<double, 3u>\n",
      "   Reference Count: 1\n",
      "   Modified Time: 3310\n",
      "   Debug: Off\n",
      "   Object Name: \n",
      "   Observers: \n",
      "     none\n",
      "   Matrix: \n",
      "     1 0 0 \n",
      "     0 1 0 \n",
      "     0 0 1 \n",
      "   Offset: [-0, -0, -0]\n",
      "   Center: [0, 0, 0]\n",
      "   Translation: [0, 0, 0]\n",
      "   Inverse: \n",
      "     1 0 0 \n",
      "     0 1 0 \n",
      "     0 0 1 \n",
      "   Singular: 0\n",
      "\n"
     ]
    }
   ],
   "source": [
    "print(atlas_aff,atlas_aff_itk)"
   ]
  },
  {
   "cell_type": "code",
   "execution_count": 21,
   "metadata": {},
   "outputs": [],
   "source": [
    "cases = []\n",
    "cases.append('105923')\n",
    "cases.append('100206')\n",
    "cases.append('102715')\n",
    "cases.append('104416')\n",
    "cases.append('107422')\n",
    "cases.append('108222')\n",
    "t1s = []\n",
    "in_tensors = []\n",
    "out_tensors = []\n",
    "outdirs = []\n",
    "dtitkdirs = []\n",
    "\n",
    "for run_case in cases:\n",
    "  subj = run_case[:6]\n",
    "  indir = '/usr/sci/projects/HCP/Kris/NSFCRCNS/prepped_UKF_data_with_grad_dev/' + subj + '/'\n",
    "  outdir = f'{outroot}{run_case}_'\n",
    "  outdirs.append(outdir)\n",
    "  dtitkdir = f'{outroot}DTITKReg/{run_case}_'\n",
    "  dtitkdirs.append(dtitkdir)\n",
    "\n",
    "  #tens_file = 'scaled_orig_tensors_rreg_v2.nhdr'\n",
    "  tens_file = 'scaled_orig_tensors_rreg.nhdr'\n",
    "  in_tens = ReadTensors(outdir + tens_file)\n",
    "  in_tensors.append(in_tens)\n",
    "  #tens_file = 'resampled.nii.gz'\n",
    "  tens_file = 'padded.nii.gz'\n",
    "  tens_file = 'padded_aff_diffeo_orig_dims.nii.gz'\n",
    "  out_tens, aff = load_nifti(dtitkdir + tens_file)\n",
    "  out_tens = out_tens.squeeze()\n",
    "  out_tensors.append(out_tens)\n",
    "  ##aff_map = AffineMap(identity, out_tens.shape, aff)\n",
    "  ##out_tens_tfm = aff_map.transform(out_tens)\n",
    "  #aff_itk = convert_to_itk(aff,False)\n",
    "  #out_tens_tfm = transform_tensors(out_tens, aff, aff_itk)\n",
    "  #out_tensors.append(out_tens_tfm)\n"
   ]
  },
  {
   "cell_type": "code",
   "execution_count": 14,
   "metadata": {},
   "outputs": [
    {
     "name": "stdout",
     "output_type": "stream",
     "text": [
      "converting transform to ITK format\n",
      "tens shape: (145, 174, 145, 6)\n",
      "out tens tri shape: (145, 174, 145, 6)\n"
     ]
    }
   ],
   "source": [
    "diff_tens_orig_dims, aff = load_nifti(f\"{outroot}DTITKReg/104416_diffeo_orig_dims.nii.gz\")\n",
    "diff_tens_orig_dims = diff_tens_orig_dims.squeeze()\n",
    "#aff_map = AffineMap(identity, atlas_tens_orig_dims.shape, atlas_aff)\n",
    "#atlas_tens_orig_dims_tfm = aff_map.transform(atlas_tens_orig_dims)\n",
    "aff_itk = convert_to_itk(aff,False)\n",
    "diff_tens_orig_dims_tfm = transform_tensors(diff_tens_orig_dims, aff, aff_itk)\n"
   ]
  },
  {
   "cell_type": "code",
   "execution_count": 36,
   "metadata": {},
   "outputs": [
    {
     "name": "stdout",
     "output_type": "stream",
     "text": [
      "converting transform to ITK format\n",
      "tens shape: (256, 256, 256, 6)\n",
      "out tens tri shape: (256, 256, 256, 6)\n"
     ]
    }
   ],
   "source": [
    "aff_tens_orig_dims, aff = load_nifti(f\"{outroot}DTITKReg/104416_padded_aff_reg_to_108222.nii.gz\")\n",
    "aff_tens_orig_dims = aff_tens_orig_dims.squeeze()\n",
    "#aff_map = AffineMap(identity, atlas_tens_orig_dims.shape, atlas_aff)\n",
    "#atlas_tens_orig_dims_tfm = aff_map.transform(atlas_tens_orig_dims)\n",
    "aff_itk = convert_to_itk(aff,False)\n",
    "aff_tens_orig_dims_tfm = transform_tensors(aff_tens_orig_dims, aff, aff_itk)\n"
   ]
  },
  {
   "cell_type": "code",
   "execution_count": 17,
   "metadata": {},
   "outputs": [
    {
     "data": {
      "application/vnd.jupyter.widget-view+json": {
       "model_id": "978392448a764b11ac261bc78d2d4e14",
       "version_major": 2,
       "version_minor": 0
      },
      "text/plain": [
       "Viewer(geometries=[], gradient_opacity=0.22, point_sets=[], rendered_image=<itk.itkImagePython.itkImageSS3; pr…"
      ]
     },
     "metadata": {},
     "output_type": "display_data"
    }
   ],
   "source": [
    "itkview(atlas_mask)"
   ]
  },
  {
   "cell_type": "code",
   "execution_count": 18,
   "metadata": {},
   "outputs": [
    {
     "data": {
      "application/vnd.jupyter.widget-view+json": {
       "model_id": "b29009d3e51848f4ba9d5981c99aee6c",
       "version_major": 2,
       "version_minor": 0
      },
      "text/plain": [
       "Viewer(geometries=[], gradient_opacity=0.22, point_sets=[], rendered_image=<itk.itkImagePython.itkImageF3; pro…"
      ]
     },
     "metadata": {},
     "output_type": "display_data"
    }
   ],
   "source": [
    "itkview(out_tensors[0][:,:,:,0])"
   ]
  },
  {
   "cell_type": "code",
   "execution_count": 19,
   "metadata": {},
   "outputs": [
    {
     "data": {
      "application/vnd.jupyter.widget-view+json": {
       "model_id": "ebf017e97e874718a66816b02d1ac5b1",
       "version_major": 2,
       "version_minor": 0
      },
      "text/plain": [
       "Viewer(geometries=[], gradient_opacity=0.22, point_sets=[], rendered_image=<itk.itkImagePython.itkImageF3; pro…"
      ]
     },
     "metadata": {},
     "output_type": "display_data"
    }
   ],
   "source": [
    "#atlas_tens = atlas_tens.squeeze()\n",
    "#print(atlas_tens.shape,atlas_mask.shape,atlas_tens_orig_dims.shape)\n",
    "itkview(atlas_tens[:,:,:,0])#, label_image=atlas_mask)"
   ]
  },
  {
   "cell_type": "code",
   "execution_count": 22,
   "metadata": {},
   "outputs": [
    {
     "data": {
      "application/vnd.jupyter.widget-view+json": {
       "model_id": "571e09674f7346ff92d370fe7ca7098d",
       "version_major": 2,
       "version_minor": 0
      },
      "text/plain": [
       "Viewer(geometries=[], gradient_opacity=0.22, point_sets=[], rendered_image=<itk.itkImagePython.itkImageF3; pro…"
      ]
     },
     "metadata": {},
     "output_type": "display_data"
    }
   ],
   "source": [
    "itkview(out_tensors[1][:,:,:,0])"
   ]
  },
  {
   "cell_type": "code",
   "execution_count": 15,
   "metadata": {},
   "outputs": [
    {
     "data": {
      "application/vnd.jupyter.widget-view+json": {
       "model_id": "a03661027ab740d888783525dea6c8a4",
       "version_major": 2,
       "version_minor": 0
      },
      "text/plain": [
       "Viewer(geometries=[], gradient_opacity=0.22, point_sets=[], rendered_image=<itk.itkImagePython.itkImageD3; pro…"
      ]
     },
     "metadata": {},
     "output_type": "display_data"
    }
   ],
   "source": [
    "itkview(in_tensors[1][:,:,:,0])"
   ]
  },
  {
   "cell_type": "code",
   "execution_count": 25,
   "metadata": {},
   "outputs": [],
   "source": [
    "#tr = ReadScalars(f\"{outroot}DTITKReg/108222_resampled_tr.nii.gz\")\n",
    "#tr = ReadScalars(f\"{outroot}DTITKReg/108222_padded_tr.nii.gz\")\n",
    "tr = ReadScalars(f\"{outroot}DTITKReg/mean_affine3_tr.nii.gz\")"
   ]
  },
  {
   "cell_type": "code",
   "execution_count": 47,
   "metadata": {},
   "outputs": [
    {
     "data": {
      "application/vnd.jupyter.widget-view+json": {
       "model_id": "707a046e887e450890459a654b6c33dc",
       "version_major": 2,
       "version_minor": 0
      },
      "text/plain": [
       "Viewer(geometries=[], gradient_opacity=0.22, point_sets=[], rendered_image=<itk.itkImagePython.itkImageF3; pro…"
      ]
     },
     "metadata": {},
     "output_type": "display_data"
    }
   ],
   "source": [
    "itkview(tr)"
   ]
  },
  {
   "cell_type": "code",
   "execution_count": 26,
   "metadata": {},
   "outputs": [
    {
     "data": {
      "application/vnd.jupyter.widget-view+json": {
       "model_id": "ce0cea02d8b04405816a0fb7c34cc50c",
       "version_major": 2,
       "version_minor": 0
      },
      "text/plain": [
       "Viewer(geometries=[], gradient_opacity=0.22, point_sets=[], rendered_image=<itk.itkImagePython.itkImageF3; pro…"
      ]
     },
     "metadata": {},
     "output_type": "display_data"
    }
   ],
   "source": [
    "itkview(tr)"
   ]
  },
  {
   "cell_type": "code",
   "execution_count": 51,
   "metadata": {},
   "outputs": [],
   "source": [
    "import dipy.reconst.dti as dti\n",
    "from dipy.data import get_sphere\n",
    "from dipy.viz import window, actor\n",
    "sphere = get_sphere('repulsion724')"
   ]
  },
  {
   "cell_type": "code",
   "execution_count": 50,
   "metadata": {},
   "outputs": [],
   "source": [
    "atlas_tens_full = np.zeros((atlas_tens.shape[0],atlas_tens.shape[1],atlas_tens.shape[2],3,3))\n",
    "atlas_tens_full[:,:,:,0,0] = atlas_tens[:,:,:,0]\n",
    "atlas_tens_full[:,:,:,0,1] = atlas_tens[:,:,:,1]\n",
    "atlas_tens_full[:,:,:,0,2] = atlas_tens[:,:,:,2]\n",
    "atlas_tens_full[:,:,:,1,0] = atlas_tens[:,:,:,1]\n",
    "atlas_tens_full[:,:,:,1,1] = atlas_tens[:,:,:,3]\n",
    "atlas_tens_full[:,:,:,1,2] = atlas_tens[:,:,:,4]\n",
    "atlas_tens_full[:,:,:,2,0] = atlas_tens[:,:,:,2]\n",
    "atlas_tens_full[:,:,:,2,1] = atlas_tens[:,:,:,4]\n",
    "atlas_tens_full[:,:,:,2,2] = atlas_tens[:,:,:,5]\n",
    "evals, evecs = np.linalg.eigh(atlas_tens_full)\n"
   ]
  },
  {
   "cell_type": "code",
   "execution_count": 53,
   "metadata": {},
   "outputs": [],
   "source": [
    "FA = dti.fractional_anisotropy(evals)\n",
    "FA[np.isnan(FA)] = 0\n",
    "FA = np.clip(FA,0,1)\n",
    "RGB = dti.color_fa(FA, evecs)\n"
   ]
  },
  {
   "cell_type": "code",
   "execution_count": null,
   "metadata": {},
   "outputs": [],
   "source": [
    "scene = window.Scene()\n",
    "xn=109\n",
    "xx=139\n",
    "yn=153\n",
    "yx=172\n",
    "zn=116\n",
    "zx=124\n",
    "\n",
    "evals_win = evals[xn:xx,yn:yx,zn:zx]\n",
    "evecs_win = evecs[xn:xx,yn:yx,zn:zx]\n",
    "cfa = RGB[xn:xx,yn:yx,zn:zx]\n",
    "cfa /= cfa.max()\n",
    "scene.add(actor.tensor_slicer(evals_win, evecs_win, scalar_colors=cfa, sphere=sphere,scale=0.3))\n",
    "window.show(scene)"
   ]
  },
  {
   "cell_type": "code",
   "execution_count": null,
   "metadata": {},
   "outputs": [],
   "source": []
  }
 ],
 "metadata": {
  "kernelspec": {
   "display_name": "nsfcrcns",
   "language": "python",
   "name": "nsfcrcns"
  },
  "language_info": {
   "codemirror_mode": {
    "name": "ipython",
    "version": 3
   },
   "file_extension": ".py",
   "mimetype": "text/x-python",
   "name": "python",
   "nbconvert_exporter": "python",
   "pygments_lexer": "ipython3",
   "version": "3.6.13"
  }
 },
 "nbformat": 4,
 "nbformat_minor": 4
}
